{
 "cells": [
  {
   "cell_type": "code",
   "execution_count": 13,
   "id": "70ec546f",
   "metadata": {},
   "outputs": [
    {
     "name": "stdout",
     "output_type": "stream",
     "text": [
      "orig data shape: (1797, 8, 8)\n",
      "(1797, 64)\n"
     ]
    },
    {
     "data": {
      "image/png": "[encoded data removed]",
      "text/plain": [
       "<Figure size 1000x300 with 4 Axes>"
      ]
     },
     "metadata": {},
     "output_type": "display_data"
    }
   ],
   "source": [
    "# -*- coding: utf-8 -*-\n",
    "\"\"\"\n",
    "Created on Sun Feb  5 13:44:31 2023\n",
    "\n",
    "@author: vidura\n",
    "\"\"\"\n",
    "\n",
    "import matplotlib.pyplot as plt\n",
    "\n",
    "# Import datasets, classifiers and performance metrics\n",
    "from sklearn import datasets, svm, metrics\n",
    "from sklearn.model_selection import train_test_split\n",
    "\n",
    "import numpy as np\n",
    "\n",
    "#%%\n",
    "digits = datasets.load_digits()\n",
    "print(f'orig data shape: {digits.images.shape}')\n",
    "\n",
    "_, axes = plt.subplots(nrows=1, ncols=4, figsize=(10, 3))\n",
    "for ax, image, label in zip(axes, digits.images, digits.target):\n",
    "    ax.set_axis_off()\n",
    "    ax.imshow(image, cmap=plt.cm.gray_r, interpolation=\"nearest\")\n",
    "    ax.set_title(\"Training: %i\" % label)\n",
    "    \n",
    "#%%\n",
    "\n",
    "# flatten the images\n",
    "n_samples = len(digits.images)\n",
    "data = digits.images.reshape((n_samples, -1)) ## new size (64,)\n",
    "\n",
    "print(data.shape)"
   ]
  },
  {
   "cell_type": "code",
   "execution_count": 14,
   "id": "db082ff9-ef88-4639-b4a8-6e37f8f6af7c",
   "metadata": {},
   "outputs": [
    {
     "name": "stdout",
     "output_type": "stream",
     "text": [
      "Dimension : 1000\n",
      "Num of features: 64\n"
     ]
    }
   ],
   "source": [
    "#%%\n",
    "#### Random project data from 64 to dimension d\n",
    "\n",
    "d      = 1000\n",
    "n_feat = data.shape[1]\n",
    "\n",
    "print(f'Dimension : {d}')\n",
    "print(f'Num of features: {n_feat}')\n",
    "\n",
    "np.random.seed(4) ## 4\n",
    "\n",
    "rnd_project = 2 * np.pi * np.random.rand(n_feat, d) # uniform andom angles between [0,2pi]"
   ]
  },
  {
   "cell_type": "code",
   "execution_count": 15,
   "id": "8a8bbc1d-40fb-48e5-9fc1-8f65bb9c5de1",
   "metadata": {},
   "outputs": [
    {
     "data": {
      "text/plain": [
       "(64, 1000)"
      ]
     },
     "execution_count": 15,
     "metadata": {},
     "output_type": "execute_result"
    }
   ],
   "source": [
    "rnd_project.shape"
   ]
  },
  {
   "cell_type": "code",
   "execution_count": 16,
   "id": "fdaac241-9298-4cdb-a5b8-8f9db26e015d",
   "metadata": {},
   "outputs": [],
   "source": [
    "rnd_project = 1 * np.exp(1j * rnd_project).real # create a phasor vector"
   ]
  },
  {
   "cell_type": "code",
   "execution_count": 17,
   "id": "7da2576a-4f2e-42c1-9989-6064a403d0cc",
   "metadata": {},
   "outputs": [
    {
     "name": "stdout",
     "output_type": "stream",
     "text": [
      "(64, 1000)\n"
     ]
    }
   ],
   "source": [
    "### Or read from the file\n",
    "import pickle\n",
    "infile1 = open(\"rnd_project\",'rb')\n",
    "rnd_project = pickle.load(infile1)\n",
    "infile1.close()\n",
    "\n",
    "\n",
    "print(rnd_project.shape)\n",
    "TR_D = np.matmul(data,rnd_project)"
   ]
  },
  {
   "cell_type": "code",
   "execution_count": 18,
   "id": "05ec295d-bf79-4e7c-ad7a-1368f11df509",
   "metadata": {},
   "outputs": [
    {
     "data": {
      "text/plain": [
       "(1797, 1000)"
      ]
     },
     "execution_count": 18,
     "metadata": {},
     "output_type": "execute_result"
    }
   ],
   "source": [
    "TR_D.shape"
   ]
  },
  {
   "cell_type": "code",
   "execution_count": 19,
   "id": "800fbc8d-8534-46e5-8fd2-289c0b84a677",
   "metadata": {},
   "outputs": [],
   "source": [
    "TR_D = np.fft.fft(TR_D)"
   ]
  },
  {
   "cell_type": "code",
   "execution_count": 20,
   "id": "cad83953-119f-47c7-8d40-002c0e4a8d9f",
   "metadata": {},
   "outputs": [
    {
     "data": {
      "text/plain": [
       "(1797, 1000)"
      ]
     },
     "execution_count": 20,
     "metadata": {},
     "output_type": "execute_result"
    }
   ],
   "source": [
    "TR_D.shape"
   ]
  },
  {
   "cell_type": "code",
   "execution_count": 21,
   "id": "d47f6941-fc4f-4937-8c6e-8add56d1b547",
   "metadata": {},
   "outputs": [],
   "source": [
    "## Normalize each element\n",
    "# for i in range(len(TR_D)):\n",
    "#     for j in range(len(TR_D[i])):\n",
    "#         TR_D[i][j] = TR_D[i][j] / abs(TR_D[i][j] )\n",
    "\n",
    "#%%"
   ]
  },
  {
   "cell_type": "code",
   "execution_count": 22,
   "id": "a7233833-9a44-4a1f-a2cd-e4adc983657e",
   "metadata": {},
   "outputs": [],
   "source": [
    "TR_D = TR_D / np.linalg.norm(TR_D, axis=1, keepdims=True)"
   ]
  },
  {
   "cell_type": "code",
   "execution_count": 23,
   "id": "34848828-6513-4f9c-8211-a8fc32b43294",
   "metadata": {},
   "outputs": [
    {
     "data": {
      "text/plain": [
       "array([[ 0.00967601+0.00000000e+00j,  0.02109331+5.28510211e-03j,\n",
       "         0.01769014-2.89238621e-02j, ..., -0.04117996-1.45123750e-03j,\n",
       "         0.01769014+2.89238621e-02j,  0.02109331-5.28510211e-03j],\n",
       "       [ 0.05304545+0.00000000e+00j,  0.00997184+6.71076100e-03j,\n",
       "         0.005481  -2.02219682e-02j, ..., -0.01704446+3.41757226e-03j,\n",
       "         0.005481  +2.02219682e-02j,  0.00997184-6.71076100e-03j],\n",
       "       [ 0.05823445+0.00000000e+00j,  0.01016806+1.69331078e-02j,\n",
       "         0.00924384-1.30262804e-02j, ..., -0.03046577-1.28799199e-02j,\n",
       "         0.00924384+1.30262804e-02j,  0.01016806-1.69331078e-02j],\n",
       "       ...,\n",
       "       [ 0.03947224+0.00000000e+00j,  0.01254602-3.64423578e-05j,\n",
       "         0.00832279-1.06719390e-02j, ..., -0.03076215+1.22466030e-02j,\n",
       "         0.00832279+1.06719390e-02j,  0.01254602+3.64423578e-05j],\n",
       "       [ 0.03170788+0.00000000e+00j,  0.01970252+1.96618649e-02j,\n",
       "         0.00385882-3.59354480e-02j, ..., -0.04512312+8.99024995e-04j,\n",
       "         0.00385882+3.59354480e-02j,  0.01970252-1.96618649e-02j],\n",
       "       [ 0.05841679+0.00000000e+00j,  0.00055247+1.33593695e-02j,\n",
       "        -0.0055906 -1.37790840e-02j, ..., -0.03857671+1.14609011e-02j,\n",
       "        -0.0055906 +1.37790840e-02j,  0.00055247-1.33593695e-02j]])"
      ]
     },
     "execution_count": 23,
     "metadata": {},
     "output_type": "execute_result"
    }
   ],
   "source": [
    "TR_D"
   ]
  },
  {
   "cell_type": "code",
   "execution_count": 24,
   "id": "01b0d916",
   "metadata": {},
   "outputs": [],
   "source": [
    "X_train, X_test, y_train, y_test = train_test_split(\n",
    "    TR_D, digits.target, test_size=0.25, shuffle=True)\n",
    "\n",
    "\n",
    "#%%"
   ]
  },
  {
   "cell_type": "code",
   "execution_count": 25,
   "id": "5b4d0a05",
   "metadata": {},
   "outputs": [],
   "source": [
    "import numpy as np\n",
    "from numpy import dot\n",
    "from numpy.linalg import norm\n",
    "import math, cmath\n",
    "\n",
    "class hdv:\n",
    "    dim=0\n",
    "    def __init__(self, dim=0):\n",
    "        self.dim = dim\n",
    "        \n",
    "    def get_rv(self):\n",
    "        pass\n",
    "    \n",
    "    def bind(self, v1, v2):\n",
    "        pass\n",
    "    \n",
    "    def bundle(self, arr_v):\n",
    "        pass\n",
    "    \n",
    "    def similarity(self, v1, v2):\n",
    "        pass\n",
    "    \n",
    "    def set_dim(self, dim):\n",
    "        self.dim = dim\n",
    "        \n",
    "class FHRR(hdv):\n",
    "    upper = math.pi\n",
    "    lower = -math.pi\n",
    "    def get_rv(self):\n",
    "        angles = np.random.uniform(self.lower, self.upper, self.dim)\n",
    "        elems = [ cmath.exp(1j*theta) for theta in angles ]\n",
    "        return np.array(elems)\n",
    "    \n",
    "    def bind(self, v1, v2):\n",
    "        angles_v1 = [cmath.polar(c)[1] for c in v1]\n",
    "        angles_v2 = [cmath.polar(c)[1] for c in v2]\n",
    "        sum_rslt =  [ cmath.exp((a1 + a2) * 1j) for a1, a2 in zip(angles_v1, angles_v2) ]\n",
    "        return np.array(sum_rslt)\n",
    "    \n",
    "    def unbind(self, v1, v2):\n",
    "        angles_v1 = [cmath.polar(c)[1] for c in v1]\n",
    "        angles_v2 = [cmath.polar(c)[1] for c in v2]\n",
    "        sum_rslt =  [ cmath.exp((a1 - a2) * 1j) for a1, a2 in zip(angles_v1, angles_v2) ]\n",
    "        return np.array(sum_rslt)\n",
    "    \n",
    "    # def bundle(self, arr_v):\n",
    "    #     rslt = np.zeros(self.dim)\n",
    "    #     for v in arr_v:\n",
    "    #         rslt = np.add(rslt, v)\n",
    "        \n",
    "    #     rslt_int = [ cmath.exp((cmath.polar(c)[1])*1j) for c in rslt]\n",
    "        \n",
    "    #     return np.array(rslt_int)\n",
    "    def bundle(self, arr_v):\n",
    "        result = np.zeros_like(arr_v[0])\n",
    "        for vector in arr_v:\n",
    "            # Add the current vector to the result vector\n",
    "            result += vector\n",
    "            # Normalize the result vector\n",
    "            result = result / np.linalg.norm(result)\n",
    "\n",
    "        return np.array(result)\n",
    "    \n",
    "    def similarity(self, v1, v2):\n",
    "        angles_v1 = [cmath.polar(c)[1] for c in v1]\n",
    "        angles_v2 = [cmath.polar(c)[1] for c in v2]\n",
    "        \n",
    "        sum_angles = 0\n",
    "        for i in range(self.dim):\n",
    "            sum_angles += (cmath.cos(angles_v1[i].real - angles_v2[i].real)).real\n",
    "            \n",
    "        return sum_angles / self.dim\n",
    "\n",
    "#%%"
   ]
  },
  {
   "cell_type": "code",
   "execution_count": 26,
   "id": "700c9629-83c0-4373-ba33-602d6f9f4aaf",
   "metadata": {},
   "outputs": [],
   "source": [
    "fhrr = FHRR(d)\n",
    "\n",
    "hd_vec = [ [] for i in range(len(digits.target_names)) ]\n",
    "\n",
    "for i in range(len(X_train)):\n",
    "    hd_vec[y_train[i]].append(X_train[i])\n",
    "    \n",
    "sum_vec = []\n",
    "\n",
    "for i in range(len(hd_vec)):\n",
    "    sum_v = fhrr.bundle(hd_vec[i])\n",
    "    sum_vec.append(sum_v)\n",
    "    "
   ]
  },
  {
   "cell_type": "code",
   "execution_count": 27,
   "id": "3593a7ca-13eb-491e-8a93-52865e8f319f",
   "metadata": {},
   "outputs": [
    {
     "data": {
      "image/png": "[encoded data removed]",
      "text/plain": [
       "<Figure size 640x480 with 1 Axes>"
      ]
     },
     "metadata": {},
     "output_type": "display_data"
    }
   ],
   "source": [
    "#%%\n",
    "\n",
    "heat_map = np.zeros((10,10))\n",
    "\n",
    "for i in range(10):\n",
    "    for j in range(10):\n",
    "        heat_map[i][j] = fhrr.similarity(sum_vec[i], sum_vec[j])\n",
    "\n",
    "import matplotlib.pyplot as plt\n",
    "\n",
    "plt.imshow(heat_map, cmap='Purples', interpolation='nearest')\n",
    "plt.show()    "
   ]
  },
  {
   "cell_type": "code",
   "execution_count": 28,
   "id": "5d1ec490",
   "metadata": {},
   "outputs": [
    {
     "name": "stdout",
     "output_type": "stream",
     "text": [
      "9\n"
     ]
    },
    {
     "data": {
      "image/png": "[encoded data removed]",
      "text/plain": [
       "<Figure size 640x480 with 1 Axes>"
      ]
     },
     "metadata": {},
     "output_type": "display_data"
    }
   ],
   "source": [
    "#%%\n",
    "\n",
    "### Classify\n",
    "\n",
    "def find_NN(centroids, sample):\n",
    "    closest = -1\n",
    "    highest_sim = -1\n",
    "    for i in range(len(centroids)):\n",
    "        sim = fhrr.similarity(sample, centroids[i])\n",
    "        if (sim > highest_sim):\n",
    "            highest_sim = sim\n",
    "            closest = i\n",
    "    \n",
    "    return closest\n",
    "\n",
    "\n",
    "print(find_NN(sum_vec, sum_vec[9]))\n",
    "\n",
    "classification_counts = np.zeros((10,10))\n",
    "\n",
    "sum_for_each_class = np.zeros(10)\n",
    "\n",
    "for i in range(len(X_test)):\n",
    "    classification_counts[y_test[i]][find_NN(sum_vec, X_test[i])] += 1\n",
    "    sum_for_each_class[y_test[i]] += 1\n",
    "\n",
    "# for i in range(len(classification_counts)):\n",
    "    \n",
    "    \n",
    "\n",
    "plt.imshow(classification_counts, cmap='Purples', interpolation='nearest')\n",
    "plt.show()\n",
    "\n",
    "#%%"
   ]
  },
  {
   "cell_type": "code",
   "execution_count": 29,
   "id": "cdb61f70",
   "metadata": {},
   "outputs": [
    {
     "name": "stdout",
     "output_type": "stream",
     "text": [
      "Classification report for HD classifier:\n",
      "              precision    recall  f1-score   support\n",
      "\n",
      "           0       0.95      0.93      0.94        45\n",
      "           1       0.54      0.47      0.50        47\n",
      "           2       0.88      0.78      0.83        37\n",
      "           3       0.79      0.79      0.79        43\n",
      "           4       0.67      0.72      0.69        50\n",
      "           5       0.75      0.59      0.66        46\n",
      "           6       0.75      0.95      0.84        44\n",
      "           7       0.91      0.86      0.89        50\n",
      "           8       0.67      0.83      0.74        41\n",
      "           9       0.76      0.72      0.74        47\n",
      "\n",
      "    accuracy                           0.76       450\n",
      "   macro avg       0.77      0.77      0.76       450\n",
      "weighted avg       0.76      0.76      0.76       450\n",
      "\n",
      "\n"
     ]
    }
   ],
   "source": [
    "## Classification report\n",
    "\n",
    "predicted = []\n",
    "for i in range(len(X_test)):\n",
    "    predicted.append(find_NN(sum_vec, X_test[i]))\n",
    "\n",
    "\n",
    "print(\n",
    "    f\"Classification report for HD classifier:\\n\"\n",
    "    f\"{metrics.classification_report(y_test, predicted)}\\n\"\n",
    ")"
   ]
  },
  {
   "cell_type": "markdown",
   "id": "8b3e062c",
   "metadata": {},
   "source": [
    "## Compare the summation vectors with SNN implementation"
   ]
  },
  {
   "cell_type": "code",
   "execution_count": 9,
   "id": "426c5640",
   "metadata": {},
   "outputs": [],
   "source": [
    "import pickle\n",
    "filename1 = 'sum_vec'\n",
    "infile1 = open(filename1,'rb')\n",
    "sum_vec_snn = pickle.load(infile1)\n",
    "infile1.close()"
   ]
  },
  {
   "cell_type": "code",
   "execution_count": 10,
   "id": "04ce115b",
   "metadata": {},
   "outputs": [
    {
     "ename": "IndexError",
     "evalue": "list index out of range",
     "output_type": "error",
     "traceback": [
      "\u001b[0;31m---------------------------------------------------------------------------\u001b[0m",
      "\u001b[0;31mIndexError\u001b[0m                                Traceback (most recent call last)",
      "Cell \u001b[0;32mIn [10], line 2\u001b[0m\n\u001b[1;32m      1\u001b[0m \u001b[38;5;28;01mfor\u001b[39;00m i \u001b[38;5;129;01min\u001b[39;00m \u001b[38;5;28mrange\u001b[39m(\u001b[38;5;28mlen\u001b[39m(sum_vec)):\n\u001b[0;32m----> 2\u001b[0m     \u001b[38;5;28mprint\u001b[39m( \u001b[43mfhrr\u001b[49m\u001b[38;5;241;43m.\u001b[39;49m\u001b[43msimilarity\u001b[49m\u001b[43m(\u001b[49m\u001b[43msum_vec\u001b[49m\u001b[43m[\u001b[49m\u001b[43mi\u001b[49m\u001b[43m]\u001b[49m\u001b[43m,\u001b[49m\u001b[43m \u001b[49m\u001b[43msum_vec_snn\u001b[49m\u001b[43m[\u001b[49m\u001b[43mi\u001b[49m\u001b[43m]\u001b[49m\u001b[43m)\u001b[49m )\n",
      "Cell \u001b[0;32mIn [4], line 61\u001b[0m, in \u001b[0;36mFHRR.similarity\u001b[0;34m(self, v1, v2)\u001b[0m\n\u001b[1;32m     59\u001b[0m sum_angles \u001b[38;5;241m=\u001b[39m \u001b[38;5;241m0\u001b[39m\n\u001b[1;32m     60\u001b[0m \u001b[38;5;28;01mfor\u001b[39;00m i \u001b[38;5;129;01min\u001b[39;00m \u001b[38;5;28mrange\u001b[39m(\u001b[38;5;28mself\u001b[39m\u001b[38;5;241m.\u001b[39mdim):\n\u001b[0;32m---> 61\u001b[0m     sum_angles \u001b[38;5;241m+\u001b[39m\u001b[38;5;241m=\u001b[39m (cmath\u001b[38;5;241m.\u001b[39mcos(angles_v1[i]\u001b[38;5;241m.\u001b[39mreal \u001b[38;5;241m-\u001b[39m \u001b[43mangles_v2\u001b[49m\u001b[43m[\u001b[49m\u001b[43mi\u001b[49m\u001b[43m]\u001b[49m\u001b[38;5;241m.\u001b[39mreal))\u001b[38;5;241m.\u001b[39mreal\n\u001b[1;32m     63\u001b[0m \u001b[38;5;28;01mreturn\u001b[39;00m sum_angles \u001b[38;5;241m/\u001b[39m \u001b[38;5;28mself\u001b[39m\u001b[38;5;241m.\u001b[39mdim\n",
      "\u001b[0;31mIndexError\u001b[0m: list index out of range"
     ]
    }
   ],
   "source": [
    "for i in range(len(sum_vec)):\n",
    "    print( fhrr.similarity(sum_vec[i], sum_vec_snn[i]) )"
   ]
  },
  {
   "cell_type": "code",
   "execution_count": 10,
   "id": "f59256db",
   "metadata": {},
   "outputs": [
    {
     "data": {
      "image/png": "[encoded data removed]",
      "text/plain": [
       "<Figure size 640x480 with 1 Axes>"
      ]
     },
     "metadata": {},
     "output_type": "display_data"
    }
   ],
   "source": [
    "heat_map = np.zeros((10,10))\n",
    "\n",
    "for i in range(10):\n",
    "    for j in range(10):\n",
    "        heat_map[i][j] = fhrr.similarity(sum_vec[i], sum_vec_snn[j])\n",
    "        \n",
    "import matplotlib.pyplot as plt\n",
    "\n",
    "plt.imshow(heat_map, cmap='Purples', interpolation='nearest')\n",
    "plt.show()  "
   ]
  },
  {
   "cell_type": "code",
   "execution_count": 20,
   "id": "bfc7f330",
   "metadata": {},
   "outputs": [],
   "source": [
    "## Temp\n",
    "e = 5\n",
    "steps = 1000\n",
    "vals = []\n",
    "vals.append(e)\n",
    "\n",
    "for i in range(steps):\n",
    "    vals.append( e + vals[i]/2 )"
   ]
  },
  {
   "cell_type": "code",
   "execution_count": 21,
   "id": "393eef58",
   "metadata": {},
   "outputs": [
    {
     "data": {
      "text/plain": [
       "[<matplotlib.lines.Line2D at 0x7f3fd21bb6d0>]"
      ]
     },
     "execution_count": 21,
     "metadata": {},
     "output_type": "execute_result"
    },
    {
     "data": {
      "image/png": "[encoded data removed]",
      "text/plain": [
       "<Figure size 640x480 with 1 Axes>"
      ]
     },
     "metadata": {},
     "output_type": "display_data"
    }
   ],
   "source": [
    "    \n",
    "plt.plot([i for i in range(len(vals))], vals)"
   ]
  },
  {
   "cell_type": "code",
   "execution_count": null,
   "id": "33d4096d",
   "metadata": {},
   "outputs": [],
   "source": []
  }
 ],
 "metadata": {
  "kernelspec": {
   "display_name": "Python 3 (ipykernel)",
   "language": "python",
   "name": "python3"
  },
  "language_info": {
   "codemirror_mode": {
    "name": "ipython",
    "version": 3
   },
   "file_extension": ".py",
   "mimetype": "text/x-python",
   "name": "python",
   "nbconvert_exporter": "python",
   "pygments_lexer": "ipython3",
   "version": "3.9.18"
  }
 },
 "nbformat": 4,
 "nbformat_minor": 5
}
