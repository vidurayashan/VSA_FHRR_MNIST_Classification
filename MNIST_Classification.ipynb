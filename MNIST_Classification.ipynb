{
 "cells": [
  {
   "cell_type": "code",
   "execution_count": 1,
   "id": "70ec546f",
   "metadata": {},
   "outputs": [
    {
     "name": "stdout",
     "output_type": "stream",
     "text": [
      "(1797, 64)\n"
     ]
    },
    {
     "data": {
      "image/png": "[encoded data removed]",
      "text/plain": [
       "<Figure size 1000x300 with 4 Axes>"
      ]
     },
     "metadata": {},
     "output_type": "display_data"
    }
   ],
   "source": [
    "# -*- coding: utf-8 -*-\n",
    "\"\"\"\n",
    "Created on Sun Feb  5 13:44:31 2023\n",
    "\n",
    "@author: vidura\n",
    "\"\"\"\n",
    "\n",
    "import matplotlib.pyplot as plt\n",
    "\n",
    "# Import datasets, classifiers and performance metrics\n",
    "from sklearn import datasets, svm, metrics\n",
    "from sklearn.model_selection import train_test_split\n",
    "\n",
    "import numpy as np\n",
    "\n",
    "#%%\n",
    "digits = datasets.load_digits()\n",
    "\n",
    "_, axes = plt.subplots(nrows=1, ncols=4, figsize=(10, 3))\n",
    "for ax, image, label in zip(axes, digits.images, digits.target):\n",
    "    ax.set_axis_off()\n",
    "    ax.imshow(image, cmap=plt.cm.gray_r, interpolation=\"nearest\")\n",
    "    ax.set_title(\"Training: %i\" % label)\n",
    "    \n",
    "#%%\n",
    "\n",
    "# flatten the images\n",
    "n_samples = len(digits.images)\n",
    "data = digits.images.reshape((n_samples, -1)) ## new size (64,)\n",
    "\n",
    "print(data.shape)"
   ]
  },
  {
   "cell_type": "code",
   "execution_count": 22,
   "id": "38f25957",
   "metadata": {},
   "outputs": [
    {
     "name": "stdout",
     "output_type": "stream",
     "text": [
      "Dimension : 1000\n",
      "Num of features: 64\n",
      "(64, 1000)\n"
     ]
    }
   ],
   "source": [
    "#%%\n",
    "#### Random project data from 64 to dimension d\n",
    "\n",
    "d      = 1000\n",
    "n_feat = data.shape[1]\n",
    "\n",
    "print(f'Dimension : {d}')\n",
    "print(f'Num of features: {n_feat}')\n",
    "\n",
    "np.random.seed(4) ## 4\n",
    "\n",
    "rnd_project =  2 * np.pi * np.random.rand(n_feat, d) # random angles\n",
    "rnd_project = 1 * np.exp(1j * rnd_project).real # create a phasor vector\n",
    "\n",
    "### Or read from the file\n",
    "import pickle\n",
    "infile1 = open(\"rnd_project\",'rb')\n",
    "rnd_project = pickle.load(infile1)\n",
    "infile1.close()\n",
    "\n",
    "\n",
    "print(rnd_project.shape)\n",
    "TR_D = np.matmul(data,rnd_project)\n",
    "\n",
    "TR_D = np.fft.fft(TR_D)\n",
    "\n",
    "## Normalize each element\n",
    "for i in range(len(TR_D)):\n",
    "    for j in range(len(TR_D[i])):\n",
    "        TR_D[i][j] = TR_D[i][j] / abs(TR_D[i][j] )\n",
    "\n",
    "#%%"
   ]
  },
  {
   "cell_type": "code",
   "execution_count": 23,
   "id": "01b0d916",
   "metadata": {},
   "outputs": [],
   "source": [
    "X_train, X_test, y_train, y_test = train_test_split(\n",
    "    TR_D, digits.target, test_size=0.25, shuffle=False)\n",
    "\n",
    "\n",
    "#%%"
   ]
  },
  {
   "cell_type": "code",
   "execution_count": 24,
   "id": "5b4d0a05",
   "metadata": {},
   "outputs": [],
   "source": [
    "import numpy as np\n",
    "from numpy import dot\n",
    "from numpy.linalg import norm\n",
    "import math, cmath\n",
    "\n",
    "class hdv:\n",
    "    dim=0\n",
    "    def __init__(self, dim=0):\n",
    "        self.dim = dim\n",
    "        \n",
    "    def get_rv(self):\n",
    "        pass\n",
    "    \n",
    "    def bind(self, v1, v2):\n",
    "        pass\n",
    "    \n",
    "    def bundle(self, arr_v):\n",
    "        pass\n",
    "    \n",
    "    def similarity(self, v1, v2):\n",
    "        pass\n",
    "    \n",
    "    def set_dim(self, dim):\n",
    "        self.dim = dim\n",
    "        \n",
    "class FHRR(hdv):\n",
    "    upper = math.pi\n",
    "    lower = -math.pi\n",
    "    def get_rv(self):\n",
    "        angles = np.random.uniform(self.lower, self.upper, self.dim)\n",
    "        elems = [ cmath.exp(1j*theta) for theta in angles ]\n",
    "        return np.array(elems)\n",
    "    \n",
    "    def bind(self, v1, v2):\n",
    "        angles_v1 = [cmath.polar(c)[1] for c in v1]\n",
    "        angles_v2 = [cmath.polar(c)[1] for c in v2]\n",
    "        sum_rslt =  [ cmath.exp((a1 + a2) * 1j) for a1, a2 in zip(angles_v1, angles_v2) ]\n",
    "        return np.array(sum_rslt)\n",
    "    \n",
    "    def unbind(self, v1, v2):\n",
    "        angles_v1 = [cmath.polar(c)[1] for c in v1]\n",
    "        angles_v2 = [cmath.polar(c)[1] for c in v2]\n",
    "        sum_rslt =  [ cmath.exp((a1 - a2) * 1j) for a1, a2 in zip(angles_v1, angles_v2) ]\n",
    "        return np.array(sum_rslt)\n",
    "    \n",
    "    def bundle(self, arr_v):\n",
    "        rslt = np.zeros(self.dim)\n",
    "        for v in arr_v:\n",
    "            rslt = np.add(rslt, v)\n",
    "        \n",
    "        rslt_int = [ cmath.exp((cmath.polar(c)[1])*1j) for c in rslt]\n",
    "        \n",
    "        return np.array(rslt_int)\n",
    "    \n",
    "    def similarity(self, v1, v2):\n",
    "        angles_v1 = [cmath.polar(c)[1] for c in v1]\n",
    "        angles_v2 = [cmath.polar(c)[1] for c in v2]\n",
    "        \n",
    "        sum_angles = 0\n",
    "        for i in range(self.dim):\n",
    "            sum_angles += (cmath.cos(angles_v1[i].real - angles_v2[i].real)).real\n",
    "            \n",
    "        return sum_angles / self.dim\n",
    "\n",
    "#%%"
   ]
  },
  {
   "cell_type": "code",
   "execution_count": 25,
   "id": "cf8c1cd4",
   "metadata": {},
   "outputs": [
    {
     "data": {
      "image/png": "[encoded data removed]",
      "text/plain": [
       "<Figure size 640x480 with 1 Axes>"
      ]
     },
     "metadata": {},
     "output_type": "display_data"
    }
   ],
   "source": [
    "fhrr = FHRR(d)\n",
    "\n",
    "hd_vec = [ [] for i in range(len(digits.target_names)) ]\n",
    "\n",
    "for i in range(len(X_train)):\n",
    "    hd_vec[y_train[i]].append(X_train[i])\n",
    "    \n",
    "sum_vec = []\n",
    "\n",
    "for i in range(len(hd_vec)):\n",
    "    sum_v = fhrr.bundle(hd_vec[i])\n",
    "    sum_vec.append(sum_v)\n",
    "    \n",
    "#%%\n",
    "\n",
    "heat_map = np.zeros((10,10))\n",
    "\n",
    "for i in range(10):\n",
    "    for j in range(10):\n",
    "        heat_map[i][j] = fhrr.similarity(sum_vec[i], sum_vec[j])\n",
    "\n",
    "import matplotlib.pyplot as plt\n",
    "\n",
    "plt.imshow(heat_map, cmap='Purples', interpolation='nearest')\n",
    "plt.show()    "
   ]
  },
  {
   "cell_type": "code",
   "execution_count": 26,
   "id": "5d1ec490",
   "metadata": {},
   "outputs": [
    {
     "name": "stdout",
     "output_type": "stream",
     "text": [
      "9\n"
     ]
    },
    {
     "data": {
      "image/png": "[encoded data removed]",
      "text/plain": [
       "<Figure size 640x480 with 1 Axes>"
      ]
     },
     "metadata": {},
     "output_type": "display_data"
    }
   ],
   "source": [
    "#%%\n",
    "\n",
    "### Classify\n",
    "\n",
    "def find_NN(centroids, sample):\n",
    "    closest = -1\n",
    "    highest_sim = -1\n",
    "    for i in range(len(centroids)):\n",
    "        sim = fhrr.similarity(sample, centroids[i])\n",
    "        if (sim > highest_sim):\n",
    "            highest_sim = sim\n",
    "            closest = i\n",
    "    \n",
    "    return closest\n",
    "\n",
    "\n",
    "print(find_NN(sum_vec, sum_vec[9]))\n",
    "\n",
    "classification_counts = np.zeros((10,10))\n",
    "\n",
    "sum_for_each_class = np.zeros(10)\n",
    "\n",
    "for i in range(len(X_test)):\n",
    "    classification_counts[y_test[i]][find_NN(sum_vec, X_test[i])] += 1\n",
    "    sum_for_each_class[y_test[i]] += 1\n",
    "\n",
    "# for i in range(len(classification_counts)):\n",
    "    \n",
    "    \n",
    "\n",
    "plt.imshow(classification_counts, cmap='Purples', interpolation='nearest')\n",
    "plt.show()\n",
    "\n",
    "#%%"
   ]
  },
  {
   "cell_type": "code",
   "execution_count": 28,
   "id": "cdb61f70",
   "metadata": {},
   "outputs": [
    {
     "name": "stdout",
     "output_type": "stream",
     "text": [
      "Classification report for HD classifier:\n",
      "              precision    recall  f1-score   support\n",
      "\n",
      "           0       0.98      0.98      0.98        43\n",
      "           1       0.80      0.78      0.79        46\n",
      "           2       1.00      0.93      0.96        43\n",
      "           3       0.89      0.72      0.80        47\n",
      "           4       0.96      0.94      0.95        48\n",
      "           5       0.84      0.82      0.83        45\n",
      "           6       0.98      0.94      0.96        47\n",
      "           7       0.87      0.91      0.89        45\n",
      "           8       0.75      0.73      0.74        41\n",
      "           9       0.62      0.84      0.72        45\n",
      "\n",
      "    accuracy                           0.86       450\n",
      "   macro avg       0.87      0.86      0.86       450\n",
      "weighted avg       0.87      0.86      0.86       450\n",
      "\n",
      "\n"
     ]
    }
   ],
   "source": [
    "## Classification report\n",
    "\n",
    "predicted = []\n",
    "for i in range(len(X_test)):\n",
    "    predicted.append(find_NN(sum_vec, X_test[i]))\n",
    "\n",
    "\n",
    "print(\n",
    "    f\"Classification report for HD classifier:\\n\"\n",
    "    f\"{metrics.classification_report(y_test, predicted)}\\n\"\n",
    ")"
   ]
  },
  {
   "cell_type": "markdown",
   "id": "8b3e062c",
   "metadata": {},
   "source": [
    "## Compare the summation vectors with SNN implementation"
   ]
  },
  {
   "cell_type": "code",
   "execution_count": 9,
   "id": "426c5640",
   "metadata": {},
   "outputs": [],
   "source": [
    "import pickle\n",
    "filename1 = 'sum_vec'\n",
    "infile1 = open(filename1,'rb')\n",
    "sum_vec_snn = pickle.load(infile1)\n",
    "infile1.close()"
   ]
  },
  {
   "cell_type": "code",
   "execution_count": 10,
   "id": "04ce115b",
   "metadata": {},
   "outputs": [
    {
     "ename": "IndexError",
     "evalue": "list index out of range",
     "output_type": "error",
     "traceback": [
      "\u001b[0;31m---------------------------------------------------------------------------\u001b[0m",
      "\u001b[0;31mIndexError\u001b[0m                                Traceback (most recent call last)",
      "Cell \u001b[0;32mIn [10], line 2\u001b[0m\n\u001b[1;32m      1\u001b[0m \u001b[38;5;28;01mfor\u001b[39;00m i \u001b[38;5;129;01min\u001b[39;00m \u001b[38;5;28mrange\u001b[39m(\u001b[38;5;28mlen\u001b[39m(sum_vec)):\n\u001b[0;32m----> 2\u001b[0m     \u001b[38;5;28mprint\u001b[39m( \u001b[43mfhrr\u001b[49m\u001b[38;5;241;43m.\u001b[39;49m\u001b[43msimilarity\u001b[49m\u001b[43m(\u001b[49m\u001b[43msum_vec\u001b[49m\u001b[43m[\u001b[49m\u001b[43mi\u001b[49m\u001b[43m]\u001b[49m\u001b[43m,\u001b[49m\u001b[43m \u001b[49m\u001b[43msum_vec_snn\u001b[49m\u001b[43m[\u001b[49m\u001b[43mi\u001b[49m\u001b[43m]\u001b[49m\u001b[43m)\u001b[49m )\n",
      "Cell \u001b[0;32mIn [4], line 61\u001b[0m, in \u001b[0;36mFHRR.similarity\u001b[0;34m(self, v1, v2)\u001b[0m\n\u001b[1;32m     59\u001b[0m sum_angles \u001b[38;5;241m=\u001b[39m \u001b[38;5;241m0\u001b[39m\n\u001b[1;32m     60\u001b[0m \u001b[38;5;28;01mfor\u001b[39;00m i \u001b[38;5;129;01min\u001b[39;00m \u001b[38;5;28mrange\u001b[39m(\u001b[38;5;28mself\u001b[39m\u001b[38;5;241m.\u001b[39mdim):\n\u001b[0;32m---> 61\u001b[0m     sum_angles \u001b[38;5;241m+\u001b[39m\u001b[38;5;241m=\u001b[39m (cmath\u001b[38;5;241m.\u001b[39mcos(angles_v1[i]\u001b[38;5;241m.\u001b[39mreal \u001b[38;5;241m-\u001b[39m \u001b[43mangles_v2\u001b[49m\u001b[43m[\u001b[49m\u001b[43mi\u001b[49m\u001b[43m]\u001b[49m\u001b[38;5;241m.\u001b[39mreal))\u001b[38;5;241m.\u001b[39mreal\n\u001b[1;32m     63\u001b[0m \u001b[38;5;28;01mreturn\u001b[39;00m sum_angles \u001b[38;5;241m/\u001b[39m \u001b[38;5;28mself\u001b[39m\u001b[38;5;241m.\u001b[39mdim\n",
      "\u001b[0;31mIndexError\u001b[0m: list index out of range"
     ]
    }
   ],
   "source": [
    "for i in range(len(sum_vec)):\n",
    "    print( fhrr.similarity(sum_vec[i], sum_vec_snn[i]) )"
   ]
  },
  {
   "cell_type": "code",
   "execution_count": 10,
   "id": "f59256db",
   "metadata": {},
   "outputs": [
    {
     "data": {
      "image/png": "[encoded data removed]",
      "text/plain": [
       "<Figure size 640x480 with 1 Axes>"
      ]
     },
     "metadata": {},
     "output_type": "display_data"
    }
   ],
   "source": [
    "heat_map = np.zeros((10,10))\n",
    "\n",
    "for i in range(10):\n",
    "    for j in range(10):\n",
    "        heat_map[i][j] = fhrr.similarity(sum_vec[i], sum_vec_snn[j])\n",
    "        \n",
    "import matplotlib.pyplot as plt\n",
    "\n",
    "plt.imshow(heat_map, cmap='Purples', interpolation='nearest')\n",
    "plt.show()  "
   ]
  },
  {
   "cell_type": "code",
   "execution_count": 20,
   "id": "bfc7f330",
   "metadata": {},
   "outputs": [],
   "source": [
    "## Temp\n",
    "e = 5\n",
    "steps = 1000\n",
    "vals = []\n",
    "vals.append(e)\n",
    "\n",
    "for i in range(steps):\n",
    "    vals.append( e + vals[i]/2 )"
   ]
  },
  {
   "cell_type": "code",
   "execution_count": 21,
   "id": "393eef58",
   "metadata": {},
   "outputs": [
    {
     "data": {
      "text/plain": [
       "[<matplotlib.lines.Line2D at 0x7f3fd21bb6d0>]"
      ]
     },
     "execution_count": 21,
     "metadata": {},
     "output_type": "execute_result"
    },
    {
     "data": {
      "image/png": "[encoded data removed]",
      "text/plain": [
       "<Figure size 640x480 with 1 Axes>"
      ]
     },
     "metadata": {},
     "output_type": "display_data"
    }
   ],
   "source": [
    "    \n",
    "plt.plot([i for i in range(len(vals))], vals)"
   ]
  },
  {
   "cell_type": "code",
   "execution_count": null,
   "id": "33d4096d",
   "metadata": {},
   "outputs": [],
   "source": []
  }
 ],
 "metadata": {
  "kernelspec": {
   "display_name": "Python 3 (ipykernel)",
   "language": "python",
   "name": "python3"
  },
  "language_info": {
   "codemirror_mode": {
    "name": "ipython",
    "version": 3
   },
   "file_extension": ".py",
   "mimetype": "text/x-python",
   "name": "python",
   "nbconvert_exporter": "python",
   "pygments_lexer": "ipython3",
   "version": "3.8.10"
  }
 },
 "nbformat": 4,
 "nbformat_minor": 5
}
