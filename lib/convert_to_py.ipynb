{
 "cells": [
  {
   "cell_type": "code",
   "execution_count": 9,
   "id": "d80d208b-ff3c-45cf-97e6-5eae069121cd",
   "metadata": {},
   "outputs": [],
   "source": [
    "files = [\"lib_FHRR\", \"utility\", \"reuse_model\", \"lib_FHRR_Loihi\"]"
   ]
  },
  {
   "cell_type": "code",
   "execution_count": 10,
   "id": "7dd2f8a8-6252-4281-9540-0604789eb544",
   "metadata": {
    "editable": true,
    "slideshow": {
     "slide_type": ""
    },
    "tags": []
   },
   "outputs": [
    {
     "name": "stdout",
     "output_type": "stream",
     "text": [
      "lib_FHRR.ipynb\n",
      "lib_FHRR.py\n"
     ]
    },
    {
     "name": "stderr",
     "output_type": "stream",
     "text": [
      "[NbConvertApp] Converting notebook lib_FHRR.ipynb to script\n",
      "[NbConvertApp] Writing 14377 bytes to lib_FHRR.py\n"
     ]
    },
    {
     "name": "stdout",
     "output_type": "stream",
     "text": [
      "utility.ipynb\n",
      "utility.py\n"
     ]
    },
    {
     "name": "stderr",
     "output_type": "stream",
     "text": [
      "'mv' is not recognized as an internal or external command,\n",
      "operable program or batch file.\n",
      "[NbConvertApp] Converting notebook utility.ipynb to script\n",
      "[NbConvertApp] Writing 3354 bytes to utility.py\n"
     ]
    },
    {
     "name": "stdout",
     "output_type": "stream",
     "text": [
      "reuse_model.ipynb\n",
      "reuse_model.py\n"
     ]
    },
    {
     "name": "stderr",
     "output_type": "stream",
     "text": [
      "'mv' is not recognized as an internal or external command,\n",
      "operable program or batch file.\n",
      "[NbConvertApp] Converting notebook reuse_model.ipynb to script\n",
      "[NbConvertApp] Writing 6193 bytes to reuse_model.py\n"
     ]
    },
    {
     "name": "stdout",
     "output_type": "stream",
     "text": [
      "lib_FHRR_Loihi.ipynb\n",
      "lib_FHRR_Loihi.py\n"
     ]
    },
    {
     "name": "stderr",
     "output_type": "stream",
     "text": [
      "'mv' is not recognized as an internal or external command,\n",
      "operable program or batch file.\n",
      "[NbConvertApp] Converting notebook lib_FHRR_Loihi.ipynb to script\n",
      "[NbConvertApp] Writing 22266 bytes to lib_FHRR_Loihi.py\n",
      "'mv' is not recognized as an internal or external command,\n",
      "operable program or batch file.\n"
     ]
    }
   ],
   "source": [
    "for file in files:\n",
    "    file_nb = file + \".ipynb\"\n",
    "    file_py = file + \".py\"\n",
    "    print(file_nb)\n",
    "    print(file_py)\n",
    "    !jupyter nbconvert --to script $file_nb\n",
    "    !mv $file_py python/."
   ]
  },
  {
   "cell_type": "code",
   "execution_count": null,
   "id": "81b5c035-de13-4749-b30a-42e164cc6e61",
   "metadata": {
    "editable": true,
    "slideshow": {
     "slide_type": ""
    },
    "tags": []
   },
   "outputs": [],
   "source": []
  }
 ],
 "metadata": {
  "kernelspec": {
   "display_name": "Python 3 (ipykernel)",
   "language": "python",
   "name": "python3"
  },
  "language_info": {
   "codemirror_mode": {
    "name": "ipython",
    "version": 3
   },
   "file_extension": ".py",
   "mimetype": "text/x-python",
   "name": "python",
   "nbconvert_exporter": "python",
   "pygments_lexer": "ipython3",
   "version": "3.9.18"
  }
 },
 "nbformat": 4,
 "nbformat_minor": 5
}
