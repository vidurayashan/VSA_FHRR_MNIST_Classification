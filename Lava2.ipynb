{
 "cells": [
  {
   "cell_type": "code",
   "execution_count": 72,
   "id": "8a049fff",
   "metadata": {},
   "outputs": [],
   "source": [
    "class GlobalVars():\n",
    "    global_threshold = 400\n",
    "    global_max = 1000000\n",
    "    time_steps = 4000"
   ]
  },
  {
   "cell_type": "code",
   "execution_count": 73,
   "id": "36f826e2",
   "metadata": {},
   "outputs": [],
   "source": [
    "# import lib.python.lib_FHRR as lib\n",
    "# import lib.python.utility as util\n",
    "# import lib.python.reuse_model as app\n",
    "\n",
    "# -*- coding: utf-8 -*-\n",
    "\"\"\"\n",
    "Created on Sun Feb  5 19:33:37 2023\n",
    "\n",
    "@author: vidura\n",
    "\"\"\"\n",
    "#%% LIB\n",
    "\n",
    "#!/usr/bin/env python\n",
    "# coding: utf-8\n",
    "\n",
    "# In[1]:\n",
    "\n",
    "\n",
    "import numpy as np\n",
    "import matplotlib.pyplot as plt\n",
    "import math\n",
    "\n",
    "from lava.magma.core.process.process import AbstractProcess\n",
    "from lava.magma.core.process.variable import Var\n",
    "from lava.magma.core.process.ports.ports import InPort, OutPort\n",
    "\n",
    "\n",
    "# In[2]:\n",
    "\n",
    "#!/usr/bin/env python\n",
    "# coding: utf-8\n",
    "\n",
    "# In[1]:\n",
    "\n",
    "\n",
    "import numpy as np\n",
    "import matplotlib.pyplot as plt\n",
    "import math\n",
    "\n",
    "\n",
    "# In[ ]:\n",
    "\n",
    "\n",
    "'''\n",
    "Find gradient of a [x], [y] data paired 2 lists\n",
    "'''\n",
    "import random\n",
    "def find_gradient(x, y):\n",
    "    if (len(x) != len(y)):\n",
    "        assert(\"Dimensions does not match\")\n",
    "    lst_size = len(x)\n",
    "    gradients = {}\n",
    "    for i in range(1, lst_size-1):\n",
    "        m1 = 0\n",
    "        m2 = 0\n",
    "        rnd_int = i\n",
    "        x1 = x[rnd_int]\n",
    "        x2 = x[rnd_int + 1]\n",
    "        x3 = x[rnd_int - 1]\n",
    "        m1 = (y[rnd_int + 1] - y[rnd_int])     / (x2 - x1)\n",
    "        m2 = (y[rnd_int    ] - y[rnd_int - 1]) / (x1 - x3)\n",
    "        if (round(m1,2) == round(m2,2)):\n",
    "            if (m1 > 0):\n",
    "                gradients[round(m1,2)] = i\n",
    "    gradients = ({k: v for k, v in sorted(gradients.items(), key=lambda item: item[1])})\n",
    "    return list(gradients.keys())\n",
    "\n",
    "\n",
    "\n",
    "# In[ ]:\n",
    "\n",
    "\n",
    "'''Function to convert polar Z to rect Z\n",
    "'''\n",
    "def pol2complex(rho, phi):\n",
    "    x = rho * np.cos(phi)\n",
    "    y = rho * np.sin(phi)\n",
    "    return complex(x, y)\n",
    "\n",
    "'''Function to convert polar [Z] to rect [Z]'''\n",
    "def phase2complex_array(arr):\n",
    "    new_arr = [pol2complex(1,x) for x in arr]\n",
    "    return new_arr\n",
    "\n",
    "'''Function to convert rect [Z] to polar [Z]\n",
    "   and clean the angle'''\n",
    "import cmath\n",
    "def complexarr2phase(arr):\n",
    "    phase_arr = [cmath.phase(x) for x in arr]\n",
    "    for i in range(len(phase_arr)):\n",
    "        while(phase_arr[i] < 0):\n",
    "            phase_arr[i] += 2 * cmath.pi\n",
    "    return phase_arr\n",
    "\n",
    "'''Function to clean polar [Z] angle'''\n",
    "def cleanphase(arr):\n",
    "    for i in range(len(arr)):\n",
    "        while arr[i] < 0:\n",
    "            arr[i] += 2 * cmath.pi\n",
    "        \n",
    "        while arr[i] > 2*cmath.pi:\n",
    "            arr[i] -= 2 * cmath.pi\n",
    "    \n",
    "    return arr\n",
    "\n",
    "'''Function to convert Rad [Z] to Degree [Z]'''\n",
    "def convert_rad2deg(arr, round_val = False):\n",
    "    if round_val == False:\n",
    "        return [180 * x / cmath.pi  for x in arr]\n",
    "    else:\n",
    "        return [round(180 * x / cmath.pi, 1)  for x in arr]\n",
    "\n",
    "'''Function to convert Degree [Z] to Rad [Z]'''\n",
    "def convert_deg2rad(arr, round_val = False):\n",
    "    if round_val == False:\n",
    "        return [cmath.pi * x / 180 for x in arr]\n",
    "    else:\n",
    "        return [round(cmath.pi * x / 180, 1) for x in arr]\n",
    "\n",
    "'''Function to place all elements of [vec] on unit circle'''\n",
    "def normalize_cmplx(vec):\n",
    "    rslt = [ z/abs(z) for z in vec]\n",
    "    return rslt\n",
    "\n",
    "\n",
    "# In[4]:\n",
    "\n",
    "\n",
    "def show_voltages(title_lst, vec, figsize):\n",
    "    if len(title_lst) != len(vec):\n",
    "        assert(\"Dimensions does not match\")\n",
    "    \n",
    "    dim = len(vec)\n",
    "    figure, axis = plt.subplots(dim, figsize=figsize)\n",
    "    \n",
    "    \n",
    "    for i in range(dim):\n",
    "        title = title_lst[i]\n",
    "        x = [x for x in range(0, len(vec[i]))]\n",
    "        axis[i].plot(x, vec[i])\n",
    "        axis[i].title.set_text(title)\n",
    "        \n",
    "    plt.show()                       \n",
    "    \n",
    "# def show_gradients(title_lst, vec):\n",
    "#     vec = np.array(vec)\n",
    "#     for i in range(len(vec)):\n",
    "#         grad = find_gradient( [x for x in range(len(vec[i]))], vec[i])\n",
    "#         print(f'{title[i]} : {grad}')\n",
    "        \n",
    "\n",
    "\n",
    "# In[ ]:\n",
    "\n",
    "\n",
    "'''\n",
    "Cosine similarity of [v2] relative to [v1]\n",
    "'''\n",
    "def similarity(v1, v2):\n",
    "    if (len(v1) != len(v2)):\n",
    "        assert(\"Dimensions do not match!\")\n",
    "    v1_phase = complexarr2phase(v1)\n",
    "    v2_phase = complexarr2phase(v2)\n",
    "    error_v = np.array([ math.cos(a-b) \n",
    "                        for a, b in zip(v1_phase, v2_phase) ])\n",
    "    return np.sum(error_v) / len(v1)\n",
    "\n",
    "\n",
    "'''\n",
    "Convert complex array to degree angle array\n",
    "'''\n",
    "def getAngleArr(arr):\n",
    "    return convert_rad2deg(complexarr2phase(arr), True)\n",
    "\n",
    "\n",
    "# In[4]:\n",
    "\n",
    "\n",
    "class FHRR_Encoder(AbstractProcess):\n",
    "    def __init__(self, vec : [complex]):\n",
    "        super().__init__()\n",
    "        hd_vec = complexarr2phase(vec)\n",
    "        shape = (len(hd_vec),)\n",
    "        self.spikes_out = OutPort(shape=shape)  # Input spikes to the classifier\n",
    "        self.input_vec = Var(shape=shape, init=hd_vec)\n",
    "        self.v = Var(shape=shape, init=0)\n",
    "        self.vth = Var(shape=(1,), init=GlobalVars.global_threshold)\n",
    "        \n",
    "    def get_v(self):\n",
    "        return self.v.get()\n",
    "\n",
    "class FHRR_Decoder(AbstractProcess):\n",
    "\n",
    "    def __init__(self, dimension : int):\n",
    "        super().__init__()\n",
    "        dim = dimension\n",
    "        shape = (dim,)\n",
    "        self.spikes_a_in = InPort(shape=shape)\n",
    "        self.v = Var(shape=shape, init=0)\n",
    "        self.decoded_a = Var(shape=shape, init=0)\n",
    "        self.vth = Var(shape=(1,), init=GlobalVars.global_threshold)\n",
    "        \n",
    "        self.a_last_spk = Var(shape=shape, init=0)\n",
    "        self.a_period = Var(shape=shape, init=GlobalVars.global_max)\n",
    "        \n",
    "    def get_v(self):\n",
    "        return self.v.get()\n",
    "    \n",
    "    def get_decoded_value(self):\n",
    "        return self.decoded_a.get()\n",
    "    \n",
    "class FHRR_Sum(AbstractProcess):\n",
    "\n",
    "    def __init__(self, dimension : int):\n",
    "        super().__init__()\n",
    "        self.dim = Var(shape=(1,), init=dimension)\n",
    "        shape = (dimension,)\n",
    "        self.spikes_a_in = InPort(shape=shape)\n",
    "        self.spikes_b_in = InPort(shape=shape)\n",
    "        self.spikes_out = OutPort(shape=shape)\n",
    "        self.v = Var(shape=shape, init=0)\n",
    "        self.vth = Var(shape=(1,), init=GlobalVars.global_threshold)\n",
    "        \n",
    "        self.a_last_spk = Var(shape=shape, init=0)\n",
    "        self.b_last_spk = Var(shape=shape, init=0)\n",
    "        self.a_period = Var(shape=shape, init=GlobalVars.global_max)\n",
    "        self.b_period = Var(shape=shape, init=GlobalVars.global_max)\n",
    "        self.phase_arr_clean = Var(shape=shape, init=0)\n",
    "        \n",
    "    def get_v(self):\n",
    "        return self.v.get()\n",
    "    \n",
    "    def get_phase_arr_clean(self):\n",
    "        return self.phase_arr_clean.get()\n",
    "    \n",
    "class FHRR_Multiply(AbstractProcess):\n",
    "\n",
    "    def __init__(self, dimension : int):\n",
    "        super().__init__()\n",
    "        self.dim = Var(shape=(1,), init=dimension)\n",
    "        shape = (dimension,)\n",
    "        self.spikes_a_in = InPort(shape=shape)\n",
    "        self.spikes_b_in = InPort(shape=shape)\n",
    "        self.spikes_out = OutPort(shape=shape)\n",
    "        self.v = Var(shape=shape, init=0)\n",
    "        self.vth = Var(shape=(1,), init=GlobalVars.global_threshold)\n",
    "        \n",
    "        self.a_last_spk = Var(shape=shape, init=0)\n",
    "        self.b_last_spk = Var(shape=shape, init=0)\n",
    "        self.a_period = Var(shape=shape, init=GlobalVars.global_max)\n",
    "        self.b_period = Var(shape=shape, init=GlobalVars.global_max)\n",
    "        \n",
    "    def get_v(self):\n",
    "        return self.v.get()\n",
    "\n",
    "\n",
    "# In[5]:\n",
    "\n",
    "\n",
    "import numpy as np\n",
    "from lava.magma.core.sync.protocols.loihi_protocol import LoihiProtocol\n",
    "from lava.magma.core.model.py.ports import PyInPort, PyOutPort\n",
    "from lava.magma.core.model.py.type import LavaPyType\n",
    "from lava.magma.core.resources import CPU\n",
    "from lava.magma.core.decorator import implements, requires, tag\n",
    "from lava.magma.core.model.py.model import PyLoihiProcessModel\n",
    "\n",
    "@implements(proc=FHRR_Encoder, protocol=LoihiProtocol)\n",
    "@requires(CPU)\n",
    "class PySpikeInputModel(PyLoihiProcessModel):\n",
    "    spikes_out: PyOutPort = LavaPyType(PyOutPort.VEC_DENSE, bool, precision=1)\n",
    "    input_vec: np.ndarray = LavaPyType(np.ndarray, float, precision=32)\n",
    "    v: np.ndarray = LavaPyType(np.ndarray, int, precision=32)\n",
    "    vth: int = LavaPyType(int, int, precision=32)\n",
    "    \n",
    "    def __init__(self, proc_params):\n",
    "        super().__init__(proc_params)\n",
    "        self.time_step = 0\n",
    "\n",
    "    def post_guard(self):\n",
    "        \"\"\"Guard function for PostManagement phase.\n",
    "        \"\"\"\n",
    "        if self.time_step == 1:\n",
    "            return True\n",
    "        return False\n",
    "\n",
    "    def run_post_mgmt(self):\n",
    "        \"\"\"Post-Management phase: executed only when guard function above \n",
    "        returns True.\n",
    "        \"\"\"\n",
    "        self.v = np.zeros(self.v.shape)\n",
    "\n",
    "    def run_spk(self):\n",
    "        \"\"\"Spiking phase: executed unconditionally at every time-step\n",
    "        \"\"\"\n",
    "        self.v[:] = self.v + self.input_vec\n",
    "        s_out = self.v > self.vth\n",
    "        self.v[s_out] = 0  # reset voltage to 0 after a spike\n",
    "        self.spikes_out.send(s_out)\n",
    "\n",
    "@implements(proc=FHRR_Sum, protocol=LoihiProtocol)\n",
    "@requires(CPU)\n",
    "class PySpikeSumModel(PyLoihiProcessModel):   \n",
    "    dim: int = LavaPyType(int, int, precision=32)\n",
    "    spikes_a_in: PyInPort = LavaPyType(PyInPort.VEC_DENSE, bool, precision=1)\n",
    "    spikes_b_in: PyInPort = LavaPyType(PyInPort.VEC_DENSE, bool, precision=1)    \n",
    "    spikes_out: PyOutPort = LavaPyType(PyOutPort.VEC_DENSE, bool, precision=1)\n",
    "    v: np.ndarray = LavaPyType(np.ndarray, float, precision=32)\n",
    "    vth: int = LavaPyType(int, int, precision=32)\n",
    "    phase_arr_clean: np.ndarray = LavaPyType(np.ndarray, float, precision=32)\n",
    "    \n",
    "\n",
    "    a_last_spk: np.ndarray = LavaPyType(np.ndarray, int, precision=32)\n",
    "    b_last_spk: np.ndarray = LavaPyType(np.ndarray, int, precision=32)\n",
    "    a_period: np.ndarray = LavaPyType(np.ndarray, float, precision=32)\n",
    "    b_period: np.ndarray = LavaPyType(np.ndarray, float, precision=32)\n",
    "    \n",
    "    def __init__(self, proc_params):\n",
    "        super().__init__(proc_params)\n",
    "        self.time_step = 0\n",
    "\n",
    "    def post_guard(self):\n",
    "        \"\"\"Guard function for PostManagement phase.\n",
    "        \"\"\"\n",
    "        if self.time_step == 1:\n",
    "            return True\n",
    "        return False\n",
    "\n",
    "    def run_post_mgmt(self):\n",
    "        \"\"\"Post-Management phase: executed only when guard function above \n",
    "        returns True.\n",
    "        \"\"\"\n",
    "#         print(\"Run Post Management\")\n",
    "        self.v          = np.zeros((self.v.shape))\n",
    "        self.a_last_spk = np.zeros((self.v.shape))\n",
    "        self.b_last_spk = np.zeros((self.v.shape))\n",
    "\n",
    "    def run_spk(self):\n",
    "        \"\"\"Spiking phase: executed unconditionally at every time-step\n",
    "        \"\"\"\n",
    "#         print(f\"time : {self.time_step}\")\n",
    "        vec_time_step = np.full((self.v.shape), self.time_step)\n",
    "        \n",
    "        new_spike_times = self.spikes_a_in.peek() * vec_time_step \n",
    "        new_spikes      = (new_spike_times > 0) * 1\n",
    "        new_spikes_inv  = 1 - (new_spikes > 0)\n",
    "        \n",
    "        masked_last_spike = self.a_last_spk * new_spikes\n",
    "        self.a_period[:] = (new_spike_times - masked_last_spike) + new_spikes_inv * self.a_period\n",
    "        \n",
    "        masked_last_spike_inv = self.a_last_spk * new_spikes_inv\n",
    "        self.a_last_spk = masked_last_spike_inv + new_spikes * vec_time_step\n",
    "        \n",
    "        decoded_a = GlobalVars.global_threshold / self.a_period\n",
    "        complex_arr_a = phase2complex_array(decoded_a)\n",
    "        \n",
    "        ###############################################################################\n",
    "        \n",
    "        new_spike_times = self.spikes_b_in.peek() * vec_time_step \n",
    "        new_spikes      = (new_spike_times > 0) * 1\n",
    "        new_spikes_inv  = 1 - (new_spikes > 0)\n",
    "        \n",
    "        masked_last_spike = self.b_last_spk * new_spikes\n",
    "        self.b_period[:] = (new_spike_times - masked_last_spike) + new_spikes_inv * self.b_period\n",
    "        \n",
    "        masked_last_spike_inv = self.b_last_spk * new_spikes_inv\n",
    "        self.b_last_spk = masked_last_spike_inv + new_spikes * vec_time_step\n",
    "        \n",
    "        decoded_b = GlobalVars.global_threshold / self.b_period\n",
    "        complex_arr_b = phase2complex_array(decoded_b)\n",
    "        \n",
    "        ##############################################################################################\n",
    "\n",
    "#         print(f\"decoded_a         : {[item * 180 / cmath.pi for item in decoded_a]}\")\n",
    "#         print(f\"decoded_b         : {[item * 180 / cmath.pi for item in decoded_b]}\")\n",
    "        \n",
    "        sum_complex = [a + b for a,b in zip(complex_arr_a, complex_arr_b)]\n",
    "        \n",
    "        phase_arr = complexarr2phase(sum_complex)\n",
    "        self.phase_arr_clean = cleanphase(phase_arr)\n",
    "        \n",
    "#         print(f\"phase_arr_clean    : {[item * 180 / cmath.pi for item in self.phase_arr_clean]}\")\n",
    "        \n",
    "        self.v[:] = self.v + self.phase_arr_clean\n",
    "        s_out = self.v > self.vth\n",
    "        self.v[s_out] = 0  # reset voltage to 0 after a spike\n",
    "        self.spikes_out.send(s_out)\n",
    "        \n",
    "\n",
    "@implements(proc=FHRR_Multiply, protocol=LoihiProtocol)\n",
    "@requires(CPU)\n",
    "class PySpikeMultModel(PyLoihiProcessModel):   \n",
    "    dim: int = LavaPyType(int, int, precision=32)\n",
    "    spikes_a_in: PyInPort = LavaPyType(PyInPort.VEC_DENSE, bool, precision=1)\n",
    "    spikes_b_in: PyInPort = LavaPyType(PyInPort.VEC_DENSE, bool, precision=1)    \n",
    "    spikes_out: PyOutPort = LavaPyType(PyOutPort.VEC_DENSE, bool, precision=1)\n",
    "    v: np.ndarray = LavaPyType(np.ndarray, float, precision=32)\n",
    "    vth: int = LavaPyType(int, int, precision=32)\n",
    "    \n",
    "\n",
    "    a_last_spk: np.ndarray = LavaPyType(np.ndarray, int, precision=32)\n",
    "    b_last_spk: np.ndarray = LavaPyType(np.ndarray, int, precision=32)\n",
    "    a_period: np.ndarray = LavaPyType(np.ndarray, float, precision=32)\n",
    "    b_period: np.ndarray = LavaPyType(np.ndarray, float, precision=32)\n",
    "    \n",
    "    def __init__(self, proc_params):\n",
    "        super().__init__(proc_params)\n",
    "        self.time_step = 0\n",
    "\n",
    "    def post_guard(self):\n",
    "        \"\"\"Guard function for PostManagement phase.\n",
    "        \"\"\"\n",
    "        if self.time_step == 1:\n",
    "            return True\n",
    "        return False\n",
    "\n",
    "    def run_post_mgmt(self):\n",
    "        \"\"\"Post-Management phase: executed only when guard function above \n",
    "        returns True.\n",
    "        \"\"\"\n",
    "        self.v          = np.zeros((self.v.shape))\n",
    "        self.a_last_spk = np.zeros((self.v.shape))\n",
    "        self.b_last_spk = np.zeros((self.v.shape))\n",
    "\n",
    "\n",
    "    def run_spk(self):\n",
    "        \"\"\"Spiking phase: executed unconditionally at every time-step\n",
    "        \"\"\"\n",
    "#         print(f\"time : {self.time_step}\")\n",
    "        vec_time_step = np.full((self.v.shape), self.time_step)\n",
    "        \n",
    "        new_spike_times = self.spikes_a_in.peek() * vec_time_step \n",
    "        new_spikes      = (new_spike_times > 0) * 1\n",
    "        new_spikes_inv  = 1 - (new_spikes > 0)\n",
    "        \n",
    "        masked_last_spike = self.a_last_spk * new_spikes\n",
    "        self.a_period[:] = (new_spike_times - masked_last_spike) + new_spikes_inv * self.a_period\n",
    "        \n",
    "\n",
    "        masked_last_spike_inv = self.a_last_spk * new_spikes_inv\n",
    "        self.a_last_spk = masked_last_spike_inv + new_spikes * vec_time_step\n",
    "        \n",
    "        decoded_a = GlobalVars.global_threshold / self.a_period\n",
    "        \n",
    "        ###############################################################################\n",
    "        \n",
    "        new_spike_times = self.spikes_b_in.peek() * vec_time_step \n",
    "        new_spikes      = (new_spike_times > 0) * 1\n",
    "        new_spikes_inv  = 1 - (new_spikes > 0)\n",
    "        \n",
    "        masked_last_spike = self.b_last_spk * new_spikes\n",
    "        self.b_period[:] = (new_spike_times - masked_last_spike) + new_spikes_inv * self.b_period\n",
    "        \n",
    "        masked_last_spike_inv = self.b_last_spk * new_spikes_inv\n",
    "        self.b_last_spk = masked_last_spike_inv + new_spikes * vec_time_step\n",
    "        \n",
    "        decoded_b = GlobalVars.global_threshold / self.b_period\n",
    "        \n",
    "        ##############################################################################################\n",
    "        \n",
    "#         print(f\"decoded_a         : {[item * 180 / cmath.pi for item in decoded_a]}\")\n",
    "#         print(f\"decoded_b         : {[item * 180 / cmath.pi for item in decoded_b]}\")\n",
    "        \n",
    "        mult_phase = [a + b for a,b in zip(decoded_a, decoded_b)]\n",
    "        \n",
    "        mult_phase_cleaned = cleanphase(mult_phase)\n",
    "        \n",
    "#         print(f\"mult_phase_cleaned         : {[item * 180 / cmath.pi for item in mult_phase_cleaned]}\")\n",
    "        \n",
    "        self.v[:] = self.v + mult_phase_cleaned\n",
    "        s_out = self.v > self.vth\n",
    "        self.v[s_out] = 0\n",
    "        self.spikes_out.send(s_out)\n",
    "        \n",
    "\n",
    "\n",
    "# In[6]:\n",
    "\n",
    "\n",
    "@implements(proc=FHRR_Decoder, protocol=LoihiProtocol)\n",
    "@requires(CPU)\n",
    "class PySpikeDecoderModel(PyLoihiProcessModel):        \n",
    "    spikes_a_in: PyInPort = LavaPyType(PyInPort.VEC_DENSE, bool, precision=1)\n",
    "    v: np.ndarray = LavaPyType(np.ndarray, float, precision=32)\n",
    "    decoded_a: np.ndarray = LavaPyType(np.ndarray, float, precision=32)\n",
    "    vth: int = LavaPyType(int, int, precision=32)\n",
    "\n",
    "    a_last_spk: np.ndarray = LavaPyType(np.ndarray, int, precision=32)\n",
    "    a_period: np.ndarray = LavaPyType(np.ndarray, float, precision=32)\n",
    "    \n",
    "    def __init__(self, proc_params):\n",
    "        super().__init__(proc_params)\n",
    "        self.time_step = 0\n",
    "\n",
    "    def post_guard(self):\n",
    "        \"\"\"Guard function for PostManagement phase.\n",
    "        \"\"\"\n",
    "        if self.time_step == GlobalVars.time_steps - 1:\n",
    "            return True\n",
    "        return False\n",
    "\n",
    "    def run_post_mgmt(self):\n",
    "        \"\"\"Post-Management phase: executed only when guard function above \n",
    "        returns True.\n",
    "        \"\"\"\n",
    "#         print(f\"decoded_val  : {[item * 180 / cmath.pi for item in self.decoded_a]}\")\n",
    "\n",
    "    def run_spk(self):\n",
    "        \"\"\"Spiking phase: executed unconditionally at every time-step\n",
    "        \"\"\"\n",
    "        \n",
    "        ###############################################################################\n",
    "        \n",
    "        vec_time_step = np.full((self.v.shape), self.time_step)\n",
    "        \n",
    "        new_spike_times = self.spikes_a_in.peek() * vec_time_step \n",
    "        new_spikes      = (new_spike_times > 0) * 1\n",
    "        new_spikes_inv  = 1 - (new_spikes > 0)\n",
    "        \n",
    "        masked_last_spike = self.a_last_spk * new_spikes\n",
    "        self.a_period[:] = (new_spike_times - masked_last_spike) + new_spikes_inv * self.a_period\n",
    "        \n",
    "\n",
    "        masked_last_spike_inv = self.a_last_spk * new_spikes_inv\n",
    "        self.a_last_spk = masked_last_spike_inv + new_spikes * vec_time_step\n",
    "        \n",
    "        self.decoded_a = GlobalVars.global_threshold / self.a_period\n",
    "        \n",
    "#         print(f\"decoded_val         : {[item * 180 / cmath.pi for item in self.decoded_a]}\")\n",
    "#         print(f'a_period            : {self.a_period}')\n",
    "        \n",
    "        self.v[:] = self.v + self.decoded_a\n",
    "        s_out = self.v > self.vth\n",
    "        self.v[s_out] = 0\n",
    "        \n",
    "\n",
    "\n",
    "#%%\n",
    "\n",
    "from lava.magma.core.run_configs import Loihi1SimCfg\n",
    "from lava.magma.core.run_configs import Loihi2HwCfg\n",
    "from lava.magma.core.run_conditions import RunSteps\n",
    "\n",
    "class FHRR_SNN_Model():\n",
    "    \n",
    "    def __init__(self, dimension, run_loihi=False):\n",
    "        \n",
    "        # if (run_loihi):\n",
    "        #     import lib_FHRR_Loihi as lib\n",
    "        #     print(\"Loihi Library Loaded!\")\n",
    "        # else:\n",
    "        #     import lib_FHRR as lib\n",
    "        \n",
    "        self.dimension = dimension\n",
    "        self.hd1 = np.zeros(dimension)\n",
    "        self.hd2 = np.zeros(dimension)\n",
    "        self.n1  = FHRR_Encoder(vec = self.hd1)\n",
    "        self.n2  = FHRR_Encoder(vec = self.hd2)\n",
    "        self.add = FHRR_Sum(dimension=dimension)\n",
    "        self.mul = FHRR_Multiply(dimension=dimension)\n",
    "        self.decode_mul   = FHRR_Decoder(dimension=dimension)\n",
    "        self.decode_add   = FHRR_Decoder(dimension=dimension)\n",
    "        \n",
    "        self.n1.spikes_out.connect(self.mul.spikes_a_in)\n",
    "        self.n2.spikes_out.connect(self.mul.spikes_b_in)\n",
    "        self.mul.spikes_out.connect(self.decode_mul.spikes_a_in)\n",
    "        \n",
    "        self.n1.spikes_out.connect(self.add.spikes_a_in)\n",
    "        self.n2.spikes_out.connect(self.add.spikes_b_in)\n",
    "        self.add.spikes_out.connect(self.decode_add.spikes_a_in)\n",
    "        \n",
    "        self.run_loihi = run_loihi\n",
    "        self.run_cfg = Loihi1SimCfg()\n",
    "        \n",
    "        # if (self.run_loihi):\n",
    "        #     self.run_cfg = Loihi2HwCfg()\n",
    "        \n",
    "        # Just init the runtime \n",
    "        self.decode_mul.run(condition=\n",
    "                            RunSteps(\n",
    "                                num_steps=1), \n",
    "                            run_cfg=self.run_cfg)\n",
    "        \n",
    "        self.voltage_n1 = []\n",
    "        self.voltage_n2 = []\n",
    "        self.voltage_mult = []\n",
    "        self.voltage_add  = []\n",
    "        self.voltage_deco_mult = []\n",
    "        self.voltage_deco_add = []\n",
    "    \n",
    "    '''\n",
    "    Cosine similarity of [v2] relative to [v1]\n",
    "    '''\n",
    "    def similarity(self, v1, v2):\n",
    "        if (len(v1) != len(v2)):\n",
    "            assert(\"Dimensions do not match!\")\n",
    "        v1_phase = complexarr2phase(v1)\n",
    "        v2_phase = complexarr2phase(v2)\n",
    "        error_v = np.array([ math.cos(a-b) \n",
    "                            for a, b in zip(v1_phase, v2_phase) ])\n",
    "        return np.sum(error_v) / len(v1)\n",
    "    \n",
    "    '''\n",
    "    Binding using normal binding logic\n",
    "    '''\n",
    "    def bind_py(self, v1, v2):\n",
    "        rslt = [ (a * b) for a, b in zip(v1, v2) ]\n",
    "        return rslt\n",
    "    \n",
    "    def bundle_py(self, v1, v2):\n",
    "        v1_norm  = normalize_cmplx(v1)\n",
    "        v2_norm  = normalize_cmplx(v2)\n",
    "        \n",
    "        rslt = [ (a + b) for a, b in zip(v1_norm, v2_norm) ]\n",
    "        return rslt\n",
    "    \n",
    "    def run(self, condition, run_cfg, debug=False):\n",
    "\n",
    "        if (debug == False):\n",
    "            self.decode_mul.run(condition=condition,run_cfg=run_cfg)\n",
    "        else:\n",
    "            for i in range(GlobalVars.time_steps):\n",
    "                self.voltage_n1.append(self.n1.get_v())\n",
    "                self.voltage_n2.append(self.n2.get_v())\n",
    "                self.voltage_mult.append(self.mul.get_v())\n",
    "                self.voltage_add.append(self.add.get_v())\n",
    "                self.voltage_deco_mult.append(self.decode_mul.get_v())\n",
    "                self.voltage_deco_add.append(self.decode_add.get_v())\n",
    "                self.decode_mul.run(condition=\n",
    "                            RunSteps(num_steps=1), \n",
    "                            run_cfg=self.run_cfg)\n",
    "                \n",
    "        return self.voltage_n1, self.voltage_n2, self.voltage_mult, self.voltage_add, self.voltage_deco_mult, self.voltage_deco_add\n",
    "        \n",
    "    '''\n",
    "    Binding using Lava SNN\n",
    "    '''\n",
    "    def bind(self, v1, v2, debug = False):\n",
    "        self.n1.input_vec.set(np.array(complexarr2phase(v1)))\n",
    "        self.n2.input_vec.set(np.array(complexarr2phase(v2)))\n",
    "        \n",
    "        self.n1.v.set(np.zeros(self.dimension))\n",
    "        self.n2.v.set(np.zeros(self.dimension))\n",
    "        self.mul.a_last_spk.set(np.zeros(self.dimension))\n",
    "        self.mul.b_last_spk.set(np.zeros(self.dimension))\n",
    "        self.mul.a_period.set(np.full((self.mul.a_period.shape), GlobalVars.global_max))\n",
    "        self.mul.b_period.set(np.full((self.mul.b_period.shape), GlobalVars.global_max))\n",
    "        self.mul.v.set(np.zeros(self.dimension))\n",
    "        \n",
    "        self.decode_mul.v.set(np.zeros(self.dimension))\n",
    "        self.decode_mul.decoded_a.set(np.zeros(self.dimension)) \n",
    "        self.decode_mul.a_last_spk.set(np.zeros(self.dimension))\n",
    "        self.decode_mul.a_period.set(np.full((self.mul.a_period.shape), GlobalVars.global_max))\n",
    "        \n",
    "        voltage_n1, voltage_n2, voltage_mult, voltage_add, voltage_deco_mult, voltage_deco_add = self.run(condition=\n",
    "                             RunSteps(num_steps=GlobalVars.time_steps),\n",
    "                             run_cfg=self.run_cfg, debug=debug)\n",
    "                 \n",
    "                 \n",
    "        raw_rslt  = self.decode_mul.get_decoded_value()\n",
    "        \n",
    "#         print(f'raw_rslt : {raw_rslt}')\n",
    "        \n",
    "        rect_rslt = phase2complex_array(raw_rslt)\n",
    "        \n",
    "        return rect_rslt, [voltage_n1, voltage_n2, voltage_mult, voltage_add, voltage_deco_mult, voltage_deco_add]\n",
    "    \n",
    "    '''\n",
    "    Bundle using Lava SNN\n",
    "    '''\n",
    "    def bundle(self, v1, v2, debug = False):\n",
    "        self.n1.input_vec.set(np.array(complexarr2phase(v1)))\n",
    "        self.n2.input_vec.set(np.array(complexarr2phase(v2)))\n",
    "        \n",
    "        self.n1.v.set(np.zeros(self.dimension))\n",
    "        self.n2.v.set(np.zeros(self.dimension))\n",
    "        self.add.a_last_spk.set(np.zeros(self.dimension))\n",
    "        self.add.b_last_spk.set(np.zeros(self.dimension))\n",
    "        self.add.a_period.set(np.full((self.add.a_period.shape), GlobalVars.global_max))\n",
    "        self.add.b_period.set(np.full((self.add.b_period.shape), GlobalVars.global_max))\n",
    "        self.add.v.set(np.zeros(self.dimension))\n",
    "        \n",
    "        self.decode_add.v.set(np.zeros(self.dimension))\n",
    "        self.decode_add.decoded_a.set(np.zeros(self.dimension)) \n",
    "        self.decode_add.a_last_spk.set(np.zeros(self.dimension))\n",
    "        self.decode_add.a_period.set(np.full((self.mul.a_period.shape), GlobalVars.global_max))\n",
    "        \n",
    "        voltage_n1, voltage_n2, voltage_mult, voltage_add, voltage_deco_mult, voltage_deco_add = self.run(condition=\n",
    "                             RunSteps(num_steps=GlobalVars.time_steps),\n",
    "                             run_cfg=self.run_cfg, debug=debug)\n",
    "                 \n",
    "                 \n",
    "        raw_rslt  = self.decode_add.get_decoded_value()\n",
    "        rect_rslt = phase2complex_array(raw_rslt)\n",
    "        \n",
    "        return rect_rslt, [voltage_n1, voltage_n2, voltage_mult, voltage_add, voltage_deco_mult, voltage_deco_add]"
   ]
  },
  {
   "cell_type": "code",
   "execution_count": 75,
   "id": "c39d7c3f",
   "metadata": {},
   "outputs": [
    {
     "name": "stdout",
     "output_type": "stream",
     "text": [
      "(1797, 64)\n"
     ]
    },
    {
     "data": {
      "image/png": "[encoded data removed]",
      "text/plain": [
       "<Figure size 1000x300 with 4 Axes>"
      ]
     },
     "metadata": {},
     "output_type": "display_data"
    }
   ],
   "source": [
    "#%%\n",
    "import matplotlib.pyplot as plt\n",
    "\n",
    "# Import datasets, classifiers and performance metrics\n",
    "from sklearn import datasets, svm, metrics\n",
    "from sklearn.model_selection import train_test_split\n",
    "\n",
    "import numpy as np\n",
    "\n",
    "#%%\n",
    "digits = datasets.load_digits()\n",
    "\n",
    "_, axes = plt.subplots(nrows=1, ncols=4, figsize=(10, 3))\n",
    "for ax, image, label in zip(axes, digits.images, digits.target):\n",
    "    ax.set_axis_off()\n",
    "    ax.imshow(image, cmap=plt.cm.gray_r, interpolation=\"nearest\")\n",
    "    ax.set_title(\"Training: %i\" % label)\n",
    "    \n",
    "#%%\n",
    "\n",
    "# flatten the images\n",
    "n_samples = len(digits.images)\n",
    "data = digits.images.reshape((n_samples, -1)) ## new size (64,)\n",
    "\n",
    "print(data.shape)\n",
    "\n",
    "#%%"
   ]
  },
  {
   "cell_type": "code",
   "execution_count": 76,
   "id": "da82f4eb",
   "metadata": {},
   "outputs": [
    {
     "name": "stdout",
     "output_type": "stream",
     "text": [
      "Dimension : 1000\n",
      "Num of features: 64\n",
      "(64, 1000)\n"
     ]
    }
   ],
   "source": [
    "#### Random project data from 64 to dimension d\n",
    "\n",
    "d      = 1000\n",
    "n_feat = data.shape[1]\n",
    "\n",
    "print(f'Dimension : {d}')\n",
    "print(f'Num of features: {n_feat}')\n",
    "\n",
    "np.random.seed(4) ## 4\n",
    "rnd_project =  2 * np.pi * np.random.rand(n_feat, d) # random angles\n",
    "rnd_project = 1 * np.exp(1j * rnd_project).real # create a phasor vector\n",
    "\n",
    "\n",
    "print(rnd_project.shape)\n",
    "TR_D = np.matmul(data,rnd_project)\n",
    "\n",
    "TR_D = np.fft.fft(TR_D)\n",
    "\n",
    "## Normalize each element\n",
    "for i in range(len(TR_D)):\n",
    "    for j in range(len(TR_D[i])):\n",
    "        TR_D[i][j] = TR_D[i][j] / abs(TR_D[i][j] )"
   ]
  },
  {
   "cell_type": "code",
   "execution_count": 3,
   "id": "8f54af38",
   "metadata": {},
   "outputs": [
    {
     "name": "stdout",
     "output_type": "stream",
     "text": [
      "All saved!\n"
     ]
    }
   ],
   "source": [
    "import pickle\n",
    "\n",
    "outfile3 = open(\"rnd_project\", 'wb')\n",
    "pickle.dump(rnd_project, outfile3)\n",
    "outfile3.close()\n",
    "\n",
    "print(\"All saved!\")"
   ]
  },
  {
   "cell_type": "code",
   "execution_count": 77,
   "id": "842369b6",
   "metadata": {},
   "outputs": [],
   "source": [
    "#%%\n",
    "snn = FHRR_SNN_Model(d)\n",
    "#%%"
   ]
  },
  {
   "cell_type": "code",
   "execution_count": 78,
   "id": "e52c7aee",
   "metadata": {},
   "outputs": [],
   "source": [
    "import numpy as np\n",
    "from numpy import dot\n",
    "from numpy.linalg import norm\n",
    "import math, cmath\n",
    "from tqdm import tqdm\n",
    "from tqdm import notebook as nb\n",
    "\n",
    "class hdv:\n",
    "    dim=0\n",
    "    def __init__(self, dim=0):\n",
    "        self.dim = dim\n",
    "        \n",
    "    def get_rv(self):\n",
    "        pass\n",
    "    \n",
    "    def bind(self, v1, v2):\n",
    "        pass\n",
    "    \n",
    "    def bundle(self, arr_v):\n",
    "        pass\n",
    "    \n",
    "    def similarity(self, v1, v2):\n",
    "        pass\n",
    "    \n",
    "    def set_dim(self, dim):\n",
    "        self.dim = dim\n",
    "        \n",
    "class FHRR(hdv):\n",
    "    upper = math.pi\n",
    "    lower = -math.pi\n",
    "    def get_rv(self):\n",
    "        angles = np.random.uniform(self.lower, self.upper, self.dim)\n",
    "        elems = [ cmath.exp(1j*theta) for theta in angles ]\n",
    "        return np.array(elems)\n",
    "    \n",
    "    def bind_old(self, v1, v2):\n",
    "        angles_v1 = [cmath.polar(c)[1] for c in v1]\n",
    "        angles_v2 = [cmath.polar(c)[1] for c in v2]\n",
    "        sum_rslt =  [ cmath.exp((a1 + a2) * 1j) for a1, a2 in zip(angles_v1, angles_v2) ]\n",
    "        return np.array(sum_rslt)\n",
    "    \n",
    "    def unbind(self, v1, v2):\n",
    "        angles_v1 = [cmath.polar(c)[1] for c in v1]\n",
    "        angles_v2 = [cmath.polar(c)[1] for c in v2]\n",
    "        sum_rslt =  [ cmath.exp((a1 - a2) * 1j) for a1, a2 in zip(angles_v1, angles_v2) ]\n",
    "        return np.array(sum_rslt)\n",
    "    \n",
    "    def bundle_old(self, arr_v):\n",
    "        rslt = np.zeros(self.dim)\n",
    "        for v in arr_v:\n",
    "            rslt = np.add(rslt, v)\n",
    "        \n",
    "        rslt_int = [ cmath.exp((cmath.polar(c)[1])*1j) for c in rslt]\n",
    "        \n",
    "        return np.array(rslt_int)\n",
    "    \n",
    "    def similarity(self, v1, v2):\n",
    "        angles_v1 = [cmath.polar(c)[1] for c in v1]\n",
    "        angles_v2 = [cmath.polar(c)[1] for c in v2]\n",
    "        \n",
    "        sum_angles = 0\n",
    "        for i in range(self.dim):\n",
    "            sum_angles += (cmath.cos(angles_v1[i].real - angles_v2[i].real)).real\n",
    "            \n",
    "        return sum_angles / self.dim\n",
    "   \n",
    "    '''\n",
    "    New function to bundle using SNN\n",
    "    '''\n",
    "    def bundle(self, arr_v):\n",
    "        snn_rslt = np.copy(arr_v[0])\n",
    "        with nb.tqdm(total=len(arr_v)-1) as pbar:\n",
    "            for i in range(1,len(arr_v)):\n",
    "                snn_rslt, voltages = snn.bundle(snn_rslt, arr_v[i])\n",
    "                pbar.update(1)\n",
    "        return snn_rslt\n",
    "    \n",
    "    def bind(self, v1, v2):\n",
    "        snn_rslt, voltages = snn.bind(v1, v2)\n",
    "        return snn_rslt\n",
    "#%%"
   ]
  },
  {
   "cell_type": "code",
   "execution_count": 79,
   "id": "ceb1130e",
   "metadata": {},
   "outputs": [],
   "source": [
    "X_train, X_test, y_train, y_test = train_test_split(\n",
    "    TR_D, digits.target, test_size=0.25, shuffle=False)\n",
    "    \n",
    "#%%"
   ]
  },
  {
   "cell_type": "code",
   "execution_count": 80,
   "id": "b7cf6d26",
   "metadata": {},
   "outputs": [],
   "source": [
    "fhrr = FHRR(d)"
   ]
  },
  {
   "cell_type": "code",
   "execution_count": 81,
   "id": "4ccfe4e6",
   "metadata": {},
   "outputs": [],
   "source": [
    "hd_vec = [ [] for i in range(len(digits.target_names)) ]\n",
    "\n",
    "for i in range(len(X_train)):\n",
    "    hd_vec[y_train[i]].append(X_train[i])\n",
    "    \n",
    "sum_vec = []\n",
    "filename1 = 'sum_vec'\n",
    "import pickle"
   ]
  },
  {
   "cell_type": "markdown",
   "id": "b527cfdd",
   "metadata": {},
   "source": [
    "## IMPORTANT!! Do not run if pickle files are saved"
   ]
  },
  {
   "cell_type": "code",
   "execution_count": 82,
   "id": "797a4f73",
   "metadata": {},
   "outputs": [
    {
     "name": "stdout",
     "output_type": "stream",
     "text": [
      "0\n"
     ]
    },
    {
     "data": {
      "application/vnd.jupyter.widget-view+json": {
       "model_id": "639d640bd49f429d96928a23a10dca0b",
       "version_major": 2,
       "version_minor": 0
      },
      "text/plain": [
       "  0%|          | 0/134 [00:00<?, ?it/s]"
      ]
     },
     "metadata": {},
     "output_type": "display_data"
    },
    {
     "name": "stdout",
     "output_type": "stream",
     "text": [
      "1\n"
     ]
    },
    {
     "data": {
      "application/vnd.jupyter.widget-view+json": {
       "model_id": "b00bfa9fea7047938d9e86288222a469",
       "version_major": 2,
       "version_minor": 0
      },
      "text/plain": [
       "  0%|          | 0/135 [00:00<?, ?it/s]"
      ]
     },
     "metadata": {},
     "output_type": "display_data"
    },
    {
     "name": "stdout",
     "output_type": "stream",
     "text": [
      "2\n"
     ]
    },
    {
     "data": {
      "application/vnd.jupyter.widget-view+json": {
       "model_id": "8e0efe586a254bd49fff3697597daea1",
       "version_major": 2,
       "version_minor": 0
      },
      "text/plain": [
       "  0%|          | 0/133 [00:00<?, ?it/s]"
      ]
     },
     "metadata": {},
     "output_type": "display_data"
    },
    {
     "name": "stdout",
     "output_type": "stream",
     "text": [
      "3\n"
     ]
    },
    {
     "data": {
      "application/vnd.jupyter.widget-view+json": {
       "model_id": "49fda2cab7134003b8d46651680a0b34",
       "version_major": 2,
       "version_minor": 0
      },
      "text/plain": [
       "  0%|          | 0/135 [00:00<?, ?it/s]"
      ]
     },
     "metadata": {},
     "output_type": "display_data"
    },
    {
     "name": "stdout",
     "output_type": "stream",
     "text": [
      "4\n"
     ]
    },
    {
     "data": {
      "application/vnd.jupyter.widget-view+json": {
       "model_id": "148463f8b93046a28905d680ae80d5b3",
       "version_major": 2,
       "version_minor": 0
      },
      "text/plain": [
       "  0%|          | 0/132 [00:00<?, ?it/s]"
      ]
     },
     "metadata": {},
     "output_type": "display_data"
    },
    {
     "name": "stdout",
     "output_type": "stream",
     "text": [
      "5\n"
     ]
    },
    {
     "data": {
      "application/vnd.jupyter.widget-view+json": {
       "model_id": "24bdec7caace45c8ba7978af8eecdcfc",
       "version_major": 2,
       "version_minor": 0
      },
      "text/plain": [
       "  0%|          | 0/136 [00:00<?, ?it/s]"
      ]
     },
     "metadata": {},
     "output_type": "display_data"
    },
    {
     "name": "stdout",
     "output_type": "stream",
     "text": [
      "6\n"
     ]
    },
    {
     "data": {
      "application/vnd.jupyter.widget-view+json": {
       "model_id": "15543a60f2704ad0adff07c22ec32892",
       "version_major": 2,
       "version_minor": 0
      },
      "text/plain": [
       "  0%|          | 0/133 [00:00<?, ?it/s]"
      ]
     },
     "metadata": {},
     "output_type": "display_data"
    },
    {
     "name": "stdout",
     "output_type": "stream",
     "text": [
      "7\n"
     ]
    },
    {
     "data": {
      "application/vnd.jupyter.widget-view+json": {
       "model_id": "d6c79ab6cdcd4b458fdc8d46b5b25ee1",
       "version_major": 2,
       "version_minor": 0
      },
      "text/plain": [
       "  0%|          | 0/133 [00:00<?, ?it/s]"
      ]
     },
     "metadata": {},
     "output_type": "display_data"
    },
    {
     "name": "stdout",
     "output_type": "stream",
     "text": [
      "8\n"
     ]
    },
    {
     "data": {
      "application/vnd.jupyter.widget-view+json": {
       "model_id": "4d8d9dfc3ffc491dbbff93f94f64ee53",
       "version_major": 2,
       "version_minor": 0
      },
      "text/plain": [
       "  0%|          | 0/132 [00:00<?, ?it/s]"
      ]
     },
     "metadata": {},
     "output_type": "display_data"
    },
    {
     "name": "stdout",
     "output_type": "stream",
     "text": [
      "9\n"
     ]
    },
    {
     "data": {
      "application/vnd.jupyter.widget-view+json": {
       "model_id": "bfaf01bd5a9c462bb317d812671ab6a1",
       "version_major": 2,
       "version_minor": 0
      },
      "text/plain": [
       "  0%|          | 0/134 [00:00<?, ?it/s]"
      ]
     },
     "metadata": {},
     "output_type": "display_data"
    }
   ],
   "source": [
    "\n",
    "\n",
    "\n",
    "# with nb.tqdm(total=len(hd_vec)) as pbar:\n",
    "for i in range(len(hd_vec)):\n",
    "    print(i)\n",
    "    sum_v = fhrr.bundle(hd_vec[i])\n",
    "    sum_vec.append(sum_v)\n",
    "#         pbar.update(1)\n",
    "#%%\n"
   ]
  },
  {
   "cell_type": "code",
   "execution_count": 83,
   "id": "b53e563f",
   "metadata": {},
   "outputs": [
    {
     "data": {
      "image/png": "[encoded data removed]",
      "text/plain": [
       "<Figure size 640x480 with 1 Axes>"
      ]
     },
     "metadata": {},
     "output_type": "display_data"
    }
   ],
   "source": [
    "heat_map = np.zeros((10,10))\n",
    "\n",
    "for i in range(10):\n",
    "    for j in range(10):\n",
    "        heat_map[i][j] = fhrr.similarity(sum_vec[i], sum_vec[j])\n",
    "\n",
    "import matplotlib.pyplot as plt\n",
    "\n",
    "plt.imshow(heat_map, cmap='Purples', interpolation='nearest')\n",
    "plt.show()    \n"
   ]
  },
  {
   "cell_type": "markdown",
   "id": "4e1c6def",
   "metadata": {},
   "source": [
    "## Generate pickle"
   ]
  },
  {
   "cell_type": "code",
   "execution_count": null,
   "id": "b250ef0a",
   "metadata": {},
   "outputs": [],
   "source": [
    "outfile1 = open(filename1, 'wb')\n",
    "pickle.dump(sum_vec, outfile1)\n",
    "outfile1.close()\n",
    "\n",
    "print(\"All saved!\")"
   ]
  },
  {
   "cell_type": "markdown",
   "id": "15f7ffcb",
   "metadata": {},
   "source": [
    "## Load Pickle files"
   ]
  },
  {
   "cell_type": "code",
   "execution_count": 22,
   "id": "3426e47c",
   "metadata": {},
   "outputs": [],
   "source": [
    "infile1 = open(filename1,'rb')\n",
    "sum_vec = pickle.load(infile1)\n",
    "infile1.close()"
   ]
  },
  {
   "cell_type": "code",
   "execution_count": 84,
   "id": "b16eb99e",
   "metadata": {},
   "outputs": [
    {
     "name": "stdout",
     "output_type": "stream",
     "text": [
      "9\n"
     ]
    }
   ],
   "source": [
    "### Classify\n",
    "\n",
    "def find_NN(centroids, sample):\n",
    "    closest = -1\n",
    "    highest_sim = -1\n",
    "    for i in range(len(centroids)):\n",
    "        sim = fhrr.similarity(sample, centroids[i])\n",
    "        if (sim > highest_sim):\n",
    "            highest_sim = sim\n",
    "            closest = i\n",
    "    \n",
    "    return closest\n",
    "\n",
    "\n",
    "print(find_NN(sum_vec, sum_vec[9]))"
   ]
  },
  {
   "cell_type": "code",
   "execution_count": 89,
   "id": "b0da092c",
   "metadata": {},
   "outputs": [
    {
     "data": {
      "application/vnd.jupyter.widget-view+json": {
       "model_id": "93173a2f800d48d9a270db3b9701724c",
       "version_major": 2,
       "version_minor": 0
      },
      "text/plain": [
       "  0%|          | 0/450 [00:00<?, ?it/s]"
      ]
     },
     "metadata": {},
     "output_type": "display_data"
    },
    {
     "data": {
      "image/png": "[encoded data removed]",
      "text/plain": [
       "<Figure size 640x480 with 1 Axes>"
      ]
     },
     "metadata": {},
     "output_type": "display_data"
    }
   ],
   "source": [
    "classification_counts = np.zeros((10,10))\n",
    "\n",
    "with nb.tqdm(total=len(X_test)) as pbar:\n",
    "    for i in range(len(X_test)):\n",
    "        classification_counts[y_test[i]][find_NN(sum_vec, X_test[i])] += 1\n",
    "        pbar.update(1)\n",
    "\n",
    "plt.imshow(classification_counts, cmap='Purples', interpolation='nearest')\n",
    "plt.show()\n",
    "\n",
    "#%%"
   ]
  },
  {
   "cell_type": "code",
   "execution_count": 90,
   "id": "acd73f5c",
   "metadata": {},
   "outputs": [
    {
     "name": "stdout",
     "output_type": "stream",
     "text": [
      "[[41.  0.  0.  0.  1.  0.  1.  0.  0.  0.]\n",
      " [ 0. 27.  1.  0.  0.  0.  0.  0. 18.  0.]\n",
      " [ 0.  0. 15.  7.  0.  0.  3.  0. 18.  0.]\n",
      " [ 0.  0.  0. 34.  0.  1.  1.  2.  9.  0.]\n",
      " [ 0.  2.  0.  0. 31.  0.  1.  0. 14.  0.]\n",
      " [ 0.  0.  0.  1.  0. 41.  1.  0.  2.  0.]\n",
      " [ 1.  0.  0.  0.  2.  0. 44.  0.  0.  0.]\n",
      " [ 0.  1.  0.  0.  0.  0.  0. 35.  9.  0.]\n",
      " [ 0.  2.  0.  5.  0.  4.  1.  0. 27.  2.]\n",
      " [ 3.  5.  0.  4.  0.  0.  0.  0.  5. 28.]]\n"
     ]
    }
   ],
   "source": [
    "print(classification_counts)"
   ]
  },
  {
   "cell_type": "code",
   "execution_count": 91,
   "id": "2189925f",
   "metadata": {},
   "outputs": [
    {
     "name": "stdout",
     "output_type": "stream",
     "text": [
      "Classification report for HD classifier:\n",
      "              precision    recall  f1-score   support\n",
      "\n",
      "           0       0.91      0.95      0.93        43\n",
      "           1       0.73      0.59      0.65        46\n",
      "           2       0.94      0.35      0.51        43\n",
      "           3       0.67      0.72      0.69        47\n",
      "           4       0.91      0.65      0.76        48\n",
      "           5       0.89      0.91      0.90        45\n",
      "           6       0.85      0.94      0.89        47\n",
      "           7       0.95      0.78      0.85        45\n",
      "           8       0.26      0.66      0.38        41\n",
      "           9       0.93      0.62      0.75        45\n",
      "\n",
      "    accuracy                           0.72       450\n",
      "   macro avg       0.80      0.72      0.73       450\n",
      "weighted avg       0.81      0.72      0.73       450\n",
      "\n",
      "\n"
     ]
    }
   ],
   "source": [
    "## Classification report\n",
    "\n",
    "predicted = []\n",
    "for i in range(len(X_test)):\n",
    "    predicted.append(find_NN(sum_vec, X_test[i]))\n",
    "\n",
    "\n",
    "print(\n",
    "    f\"Classification report for HD classifier:\\n\"\n",
    "    f\"{metrics.classification_report(y_test, predicted)}\\n\"\n",
    ")"
   ]
  },
  {
   "cell_type": "markdown",
   "id": "d0750f6d",
   "metadata": {},
   "source": [
    "## Error analysis"
   ]
  },
  {
   "cell_type": "code",
   "execution_count": null,
   "id": "cd8210a4",
   "metadata": {},
   "outputs": [],
   "source": [
    "rv1 = fhrr.get_rv()\n",
    "rv2 = fhrr.get_rv()\n",
    "# rv1 = [(-0.6466626024462543+0.7627761654623444j)]\n",
    "# rv2 = [(0.9578288783154513-0.2873392417769708j)]"
   ]
  },
  {
   "cell_type": "code",
   "execution_count": null,
   "id": "534c0d74",
   "metadata": {},
   "outputs": [],
   "source": [
    "import pickle\n",
    "filename1 = 'rvs'\n",
    "\n",
    "outfile1 = open(filename1, 'wb')\n",
    "pickle.dump([rv1, rv2], outfile1)\n",
    "outfile1.close()\n",
    "\n",
    "print(\"All saved!\")"
   ]
  },
  {
   "cell_type": "code",
   "execution_count": null,
   "id": "d893074b",
   "metadata": {},
   "outputs": [],
   "source": [
    "bundled = fhrr.bundle(       [rv1, rv2, rv1, rv2, rv1, rv2, rv1, rv2, rv1, rv2, rv1, rv2, rv1, rv2, rv1, rv2, rv1, rv2, rv1, rv2, rv1, rv2, rv1, rv2, rv1, rv2, rv1, rv2, rv1, rv2, rv1, rv2])"
   ]
  },
  {
   "cell_type": "code",
   "execution_count": null,
   "id": "906c2f62",
   "metadata": {},
   "outputs": [],
   "source": [
    "bundled_py = fhrr.bundle_old([rv1, rv2, rv1, rv2, rv1, rv2, rv1, rv2, rv1, rv2, rv1, rv2, rv1, rv2, rv1, rv2, rv1, rv2, rv1, rv2, rv1, rv2, rv1, rv2, rv1, rv2, rv1, rv2, rv1, rv2, rv1, rv2])"
   ]
  },
  {
   "cell_type": "code",
   "execution_count": null,
   "id": "1fc9dab0",
   "metadata": {},
   "outputs": [],
   "source": [
    "fhrr.similarity(bundled, bundled_py)"
   ]
  },
  {
   "cell_type": "code",
   "execution_count": null,
   "id": "850f3a14",
   "metadata": {},
   "outputs": [],
   "source": [
    "result_angle  = convert_rad2deg(complexarr2phase(bundled), True)\n",
    "bundled_angle = convert_rad2deg(complexarr2phase(bundled_py), True)\n",
    "print(f'result         : {result_angle}')\n",
    "print(f'bundled python : {bundled_angle}')"
   ]
  },
  {
   "cell_type": "code",
   "execution_count": null,
   "id": "b062dc2a",
   "metadata": {},
   "outputs": [],
   "source": [
    "print(rv1)\n",
    "print(rv2)"
   ]
  },
  {
   "cell_type": "code",
   "execution_count": null,
   "id": "08263c71",
   "metadata": {},
   "outputs": [],
   "source": [
    "import cmath\n",
    "\n",
    "p1 = (cmath.polar(bundled[0]))\n",
    "p2 = (cmath.polar(bundled_py[0]))\n",
    "\n",
    "print(p1)\n",
    "print(p2)"
   ]
  },
  {
   "cell_type": "code",
   "execution_count": null,
   "id": "87793197",
   "metadata": {},
   "outputs": [],
   "source": [
    "print(convert_rad2deg([p1[1]]))\n",
    "print(convert_rad2deg([p2[1]]))"
   ]
  },
  {
   "cell_type": "code",
   "execution_count": null,
   "id": "e491863b",
   "metadata": {},
   "outputs": [],
   "source": [
    "rv1_polar = cmath.polar(rv1)\n",
    "rv2_polar = cmath.polar(rv2)\n",
    "\n",
    "print(rv1_polar)\n",
    "print(rv2_polar)\n",
    "\n",
    "print(convert_rad2deg([rv1_polar[1]]))\n",
    "print(convert_rad2deg([rv2_polar[1]]))"
   ]
  },
  {
   "cell_type": "markdown",
   "id": "de3d6273",
   "metadata": {},
   "source": [
    "## Bundling similarity plot"
   ]
  },
  {
   "cell_type": "code",
   "execution_count": 92,
   "id": "fa29b840",
   "metadata": {},
   "outputs": [],
   "source": [
    "N = 50\n",
    "rvs = [fhrr.get_rv() for i in range(N)]"
   ]
  },
  {
   "cell_type": "code",
   "execution_count": 93,
   "id": "d08dd781",
   "metadata": {},
   "outputs": [
    {
     "data": {
      "application/vnd.jupyter.widget-view+json": {
       "model_id": "e601304c180c41faa82d700fe1ccb377",
       "version_major": 2,
       "version_minor": 0
      },
      "text/plain": [
       "  0%|          | 0/1 [00:00<?, ?it/s]"
      ]
     },
     "metadata": {},
     "output_type": "display_data"
    },
    {
     "data": {
      "application/vnd.jupyter.widget-view+json": {
       "model_id": "22311c480fa04cb6ad1a2921bdfed478",
       "version_major": 2,
       "version_minor": 0
      },
      "text/plain": [
       "  0%|          | 0/1 [00:00<?, ?it/s]"
      ]
     },
     "metadata": {},
     "output_type": "display_data"
    },
    {
     "name": "stdout",
     "output_type": "stream",
     "text": [
      "0.9606310561939639\n"
     ]
    },
    {
     "data": {
      "application/vnd.jupyter.widget-view+json": {
       "model_id": "be29473458de4115a9f64c18f05392ea",
       "version_major": 2,
       "version_minor": 0
      },
      "text/plain": [
       "  0%|          | 0/1 [00:00<?, ?it/s]"
      ]
     },
     "metadata": {},
     "output_type": "display_data"
    },
    {
     "name": "stdout",
     "output_type": "stream",
     "text": [
      "0.9478515436759337\n"
     ]
    },
    {
     "data": {
      "application/vnd.jupyter.widget-view+json": {
       "model_id": "9d6e897bf496458b811099837ed92c42",
       "version_major": 2,
       "version_minor": 0
      },
      "text/plain": [
       "  0%|          | 0/1 [00:00<?, ?it/s]"
      ]
     },
     "metadata": {},
     "output_type": "display_data"
    },
    {
     "name": "stdout",
     "output_type": "stream",
     "text": [
      "0.9366530862496786\n"
     ]
    },
    {
     "data": {
      "application/vnd.jupyter.widget-view+json": {
       "model_id": "5ac5fc268e0b44848802cad53059a628",
       "version_major": 2,
       "version_minor": 0
      },
      "text/plain": [
       "  0%|          | 0/1 [00:00<?, ?it/s]"
      ]
     },
     "metadata": {},
     "output_type": "display_data"
    },
    {
     "name": "stdout",
     "output_type": "stream",
     "text": [
      "0.9358707842342607\n"
     ]
    },
    {
     "data": {
      "application/vnd.jupyter.widget-view+json": {
       "model_id": "3cffeee965bd4f40a1f4dbab6fa86a87",
       "version_major": 2,
       "version_minor": 0
      },
      "text/plain": [
       "  0%|          | 0/1 [00:00<?, ?it/s]"
      ]
     },
     "metadata": {},
     "output_type": "display_data"
    },
    {
     "name": "stdout",
     "output_type": "stream",
     "text": [
      "0.9212418435132094\n"
     ]
    },
    {
     "data": {
      "application/vnd.jupyter.widget-view+json": {
       "model_id": "8a179c30c22f4bc3acecef5bba6ff7a4",
       "version_major": 2,
       "version_minor": 0
      },
      "text/plain": [
       "  0%|          | 0/1 [00:00<?, ?it/s]"
      ]
     },
     "metadata": {},
     "output_type": "display_data"
    },
    {
     "name": "stdout",
     "output_type": "stream",
     "text": [
      "0.9215392489758301\n"
     ]
    },
    {
     "data": {
      "application/vnd.jupyter.widget-view+json": {
       "model_id": "e4e3f794c2104e488308fafa16e7f2ea",
       "version_major": 2,
       "version_minor": 0
      },
      "text/plain": [
       "  0%|          | 0/1 [00:00<?, ?it/s]"
      ]
     },
     "metadata": {},
     "output_type": "display_data"
    },
    {
     "name": "stdout",
     "output_type": "stream",
     "text": [
      "0.9147127910708219\n"
     ]
    },
    {
     "data": {
      "application/vnd.jupyter.widget-view+json": {
       "model_id": "565221ffb15f4c3fbf604d7705bf2400",
       "version_major": 2,
       "version_minor": 0
      },
      "text/plain": [
       "  0%|          | 0/1 [00:00<?, ?it/s]"
      ]
     },
     "metadata": {},
     "output_type": "display_data"
    },
    {
     "name": "stdout",
     "output_type": "stream",
     "text": [
      "0.9201355262683086\n"
     ]
    },
    {
     "data": {
      "application/vnd.jupyter.widget-view+json": {
       "model_id": "6529893dfd24499ebed6c5225e951a49",
       "version_major": 2,
       "version_minor": 0
      },
      "text/plain": [
       "  0%|          | 0/1 [00:00<?, ?it/s]"
      ]
     },
     "metadata": {},
     "output_type": "display_data"
    },
    {
     "name": "stdout",
     "output_type": "stream",
     "text": [
      "0.9213653638427911\n"
     ]
    },
    {
     "data": {
      "application/vnd.jupyter.widget-view+json": {
       "model_id": "bf43ff68e3a34387ad8a0bd4c59eef66",
       "version_major": 2,
       "version_minor": 0
      },
      "text/plain": [
       "  0%|          | 0/1 [00:00<?, ?it/s]"
      ]
     },
     "metadata": {},
     "output_type": "display_data"
    },
    {
     "name": "stdout",
     "output_type": "stream",
     "text": [
      "0.9315674350685088\n"
     ]
    },
    {
     "data": {
      "application/vnd.jupyter.widget-view+json": {
       "model_id": "85911546c99a486586b6c06c36bd02bb",
       "version_major": 2,
       "version_minor": 0
      },
      "text/plain": [
       "  0%|          | 0/1 [00:00<?, ?it/s]"
      ]
     },
     "metadata": {},
     "output_type": "display_data"
    },
    {
     "name": "stdout",
     "output_type": "stream",
     "text": [
      "0.9339433211656106\n"
     ]
    },
    {
     "data": {
      "application/vnd.jupyter.widget-view+json": {
       "model_id": "6eb2e1ab2bae454caf848968d4027a9b",
       "version_major": 2,
       "version_minor": 0
      },
      "text/plain": [
       "  0%|          | 0/1 [00:00<?, ?it/s]"
      ]
     },
     "metadata": {},
     "output_type": "display_data"
    },
    {
     "name": "stdout",
     "output_type": "stream",
     "text": [
      "0.9232347284240923\n"
     ]
    },
    {
     "data": {
      "application/vnd.jupyter.widget-view+json": {
       "model_id": "4605841cd040497c82ea36ec1c62774c",
       "version_major": 2,
       "version_minor": 0
      },
      "text/plain": [
       "  0%|          | 0/1 [00:00<?, ?it/s]"
      ]
     },
     "metadata": {},
     "output_type": "display_data"
    },
    {
     "name": "stdout",
     "output_type": "stream",
     "text": [
      "0.9054039854067936\n"
     ]
    },
    {
     "data": {
      "application/vnd.jupyter.widget-view+json": {
       "model_id": "3e2ad492045e4eaea5bac2a0456e78c9",
       "version_major": 2,
       "version_minor": 0
      },
      "text/plain": [
       "  0%|          | 0/1 [00:00<?, ?it/s]"
      ]
     },
     "metadata": {},
     "output_type": "display_data"
    },
    {
     "name": "stdout",
     "output_type": "stream",
     "text": [
      "0.9264088615488187\n"
     ]
    },
    {
     "data": {
      "application/vnd.jupyter.widget-view+json": {
       "model_id": "1de8d7db0be04545adfaeb25240e438c",
       "version_major": 2,
       "version_minor": 0
      },
      "text/plain": [
       "  0%|          | 0/1 [00:00<?, ?it/s]"
      ]
     },
     "metadata": {},
     "output_type": "display_data"
    },
    {
     "name": "stdout",
     "output_type": "stream",
     "text": [
      "0.932364314825219\n"
     ]
    },
    {
     "data": {
      "application/vnd.jupyter.widget-view+json": {
       "model_id": "502cbb5eac9c46a180092f05d6ab8c34",
       "version_major": 2,
       "version_minor": 0
      },
      "text/plain": [
       "  0%|          | 0/1 [00:00<?, ?it/s]"
      ]
     },
     "metadata": {},
     "output_type": "display_data"
    },
    {
     "name": "stdout",
     "output_type": "stream",
     "text": [
      "0.9164144001385993\n"
     ]
    },
    {
     "data": {
      "application/vnd.jupyter.widget-view+json": {
       "model_id": "848b48f173564cafbee4cd1b6981f95c",
       "version_major": 2,
       "version_minor": 0
      },
      "text/plain": [
       "  0%|          | 0/1 [00:00<?, ?it/s]"
      ]
     },
     "metadata": {},
     "output_type": "display_data"
    },
    {
     "name": "stdout",
     "output_type": "stream",
     "text": [
      "0.8923661333694779\n"
     ]
    },
    {
     "data": {
      "application/vnd.jupyter.widget-view+json": {
       "model_id": "74d1f16c5cc9471a921f6be55e43dc71",
       "version_major": 2,
       "version_minor": 0
      },
      "text/plain": [
       "  0%|          | 0/1 [00:00<?, ?it/s]"
      ]
     },
     "metadata": {},
     "output_type": "display_data"
    },
    {
     "name": "stdout",
     "output_type": "stream",
     "text": [
      "0.9034563252716973\n"
     ]
    },
    {
     "data": {
      "application/vnd.jupyter.widget-view+json": {
       "model_id": "52c3bf24cc534f659d3cf4f070a90f65",
       "version_major": 2,
       "version_minor": 0
      },
      "text/plain": [
       "  0%|          | 0/1 [00:00<?, ?it/s]"
      ]
     },
     "metadata": {},
     "output_type": "display_data"
    },
    {
     "name": "stdout",
     "output_type": "stream",
     "text": [
      "0.914720227833536\n"
     ]
    },
    {
     "data": {
      "application/vnd.jupyter.widget-view+json": {
       "model_id": "40cdeda6f81443a7891bea81d591115f",
       "version_major": 2,
       "version_minor": 0
      },
      "text/plain": [
       "  0%|          | 0/1 [00:00<?, ?it/s]"
      ]
     },
     "metadata": {},
     "output_type": "display_data"
    },
    {
     "name": "stdout",
     "output_type": "stream",
     "text": [
      "0.9030030346450444\n"
     ]
    },
    {
     "data": {
      "application/vnd.jupyter.widget-view+json": {
       "model_id": "f0737d1beda44886b39328ef352b7ac2",
       "version_major": 2,
       "version_minor": 0
      },
      "text/plain": [
       "  0%|          | 0/1 [00:00<?, ?it/s]"
      ]
     },
     "metadata": {},
     "output_type": "display_data"
    },
    {
     "name": "stdout",
     "output_type": "stream",
     "text": [
      "0.9229037903367593\n"
     ]
    },
    {
     "data": {
      "application/vnd.jupyter.widget-view+json": {
       "model_id": "2b0888c106564c9a848fe8e78d915304",
       "version_major": 2,
       "version_minor": 0
      },
      "text/plain": [
       "  0%|          | 0/1 [00:00<?, ?it/s]"
      ]
     },
     "metadata": {},
     "output_type": "display_data"
    },
    {
     "name": "stdout",
     "output_type": "stream",
     "text": [
      "0.9001314990581653\n"
     ]
    },
    {
     "data": {
      "application/vnd.jupyter.widget-view+json": {
       "model_id": "f61f86e4f94c49fea4c43c69c51a15d4",
       "version_major": 2,
       "version_minor": 0
      },
      "text/plain": [
       "  0%|          | 0/1 [00:00<?, ?it/s]"
      ]
     },
     "metadata": {},
     "output_type": "display_data"
    },
    {
     "name": "stdout",
     "output_type": "stream",
     "text": [
      "0.8922429016004448\n"
     ]
    },
    {
     "data": {
      "application/vnd.jupyter.widget-view+json": {
       "model_id": "04890c3bdc014b81b4a167a65c14839d",
       "version_major": 2,
       "version_minor": 0
      },
      "text/plain": [
       "  0%|          | 0/1 [00:00<?, ?it/s]"
      ]
     },
     "metadata": {},
     "output_type": "display_data"
    },
    {
     "name": "stdout",
     "output_type": "stream",
     "text": [
      "0.9122299297255766\n"
     ]
    },
    {
     "data": {
      "application/vnd.jupyter.widget-view+json": {
       "model_id": "98303f5aebd24b74bf348c7daf727272",
       "version_major": 2,
       "version_minor": 0
      },
      "text/plain": [
       "  0%|          | 0/1 [00:00<?, ?it/s]"
      ]
     },
     "metadata": {},
     "output_type": "display_data"
    },
    {
     "name": "stdout",
     "output_type": "stream",
     "text": [
      "0.9065365508085184\n"
     ]
    },
    {
     "data": {
      "application/vnd.jupyter.widget-view+json": {
       "model_id": "5ca19d842ec3491a8c757e5d2c67e423",
       "version_major": 2,
       "version_minor": 0
      },
      "text/plain": [
       "  0%|          | 0/1 [00:00<?, ?it/s]"
      ]
     },
     "metadata": {},
     "output_type": "display_data"
    },
    {
     "name": "stdout",
     "output_type": "stream",
     "text": [
      "0.8983731450748746\n"
     ]
    },
    {
     "data": {
      "application/vnd.jupyter.widget-view+json": {
       "model_id": "4194a561bc4741a3ad04f474abfaa7ad",
       "version_major": 2,
       "version_minor": 0
      },
      "text/plain": [
       "  0%|          | 0/1 [00:00<?, ?it/s]"
      ]
     },
     "metadata": {},
     "output_type": "display_data"
    },
    {
     "name": "stdout",
     "output_type": "stream",
     "text": [
      "0.9191437628510555\n"
     ]
    },
    {
     "data": {
      "application/vnd.jupyter.widget-view+json": {
       "model_id": "493d54f2946c4c208dbd1b21252105b7",
       "version_major": 2,
       "version_minor": 0
      },
      "text/plain": [
       "  0%|          | 0/1 [00:00<?, ?it/s]"
      ]
     },
     "metadata": {},
     "output_type": "display_data"
    },
    {
     "name": "stdout",
     "output_type": "stream",
     "text": [
      "0.9104811800632427\n"
     ]
    },
    {
     "data": {
      "application/vnd.jupyter.widget-view+json": {
       "model_id": "5065d7edd8fb4ebf8d3e251255fd1633",
       "version_major": 2,
       "version_minor": 0
      },
      "text/plain": [
       "  0%|          | 0/1 [00:00<?, ?it/s]"
      ]
     },
     "metadata": {},
     "output_type": "display_data"
    },
    {
     "name": "stdout",
     "output_type": "stream",
     "text": [
      "0.9058785697114312\n"
     ]
    },
    {
     "data": {
      "application/vnd.jupyter.widget-view+json": {
       "model_id": "d5b6edfe58544344978f8c86609df664",
       "version_major": 2,
       "version_minor": 0
      },
      "text/plain": [
       "  0%|          | 0/1 [00:00<?, ?it/s]"
      ]
     },
     "metadata": {},
     "output_type": "display_data"
    },
    {
     "name": "stdout",
     "output_type": "stream",
     "text": [
      "0.9284145151355704\n"
     ]
    },
    {
     "data": {
      "application/vnd.jupyter.widget-view+json": {
       "model_id": "93ddd61de8594b13a7607ebd506b9d20",
       "version_major": 2,
       "version_minor": 0
      },
      "text/plain": [
       "  0%|          | 0/1 [00:00<?, ?it/s]"
      ]
     },
     "metadata": {},
     "output_type": "display_data"
    },
    {
     "name": "stdout",
     "output_type": "stream",
     "text": [
      "0.921038749128352\n"
     ]
    },
    {
     "data": {
      "application/vnd.jupyter.widget-view+json": {
       "model_id": "3df3a7880dd54f00b4a4fb070e68ac92",
       "version_major": 2,
       "version_minor": 0
      },
      "text/plain": [
       "  0%|          | 0/1 [00:00<?, ?it/s]"
      ]
     },
     "metadata": {},
     "output_type": "display_data"
    },
    {
     "name": "stdout",
     "output_type": "stream",
     "text": [
      "0.9299096440940537\n"
     ]
    },
    {
     "data": {
      "application/vnd.jupyter.widget-view+json": {
       "model_id": "8efa136717844369b29670989fc91a82",
       "version_major": 2,
       "version_minor": 0
      },
      "text/plain": [
       "  0%|          | 0/1 [00:00<?, ?it/s]"
      ]
     },
     "metadata": {},
     "output_type": "display_data"
    },
    {
     "name": "stdout",
     "output_type": "stream",
     "text": [
      "0.9300860709164012\n"
     ]
    },
    {
     "data": {
      "application/vnd.jupyter.widget-view+json": {
       "model_id": "d4c18b34b0c54a8980ddc311cc5186f7",
       "version_major": 2,
       "version_minor": 0
      },
      "text/plain": [
       "  0%|          | 0/1 [00:00<?, ?it/s]"
      ]
     },
     "metadata": {},
     "output_type": "display_data"
    },
    {
     "name": "stdout",
     "output_type": "stream",
     "text": [
      "0.9345973537816975\n"
     ]
    },
    {
     "data": {
      "application/vnd.jupyter.widget-view+json": {
       "model_id": "f2d2bddc7dee48fc95583d4859dc3add",
       "version_major": 2,
       "version_minor": 0
      },
      "text/plain": [
       "  0%|          | 0/1 [00:00<?, ?it/s]"
      ]
     },
     "metadata": {},
     "output_type": "display_data"
    },
    {
     "name": "stdout",
     "output_type": "stream",
     "text": [
      "0.9336783463287318\n"
     ]
    },
    {
     "data": {
      "application/vnd.jupyter.widget-view+json": {
       "model_id": "74c7063abe574fa18093022513d6a7a1",
       "version_major": 2,
       "version_minor": 0
      },
      "text/plain": [
       "  0%|          | 0/1 [00:00<?, ?it/s]"
      ]
     },
     "metadata": {},
     "output_type": "display_data"
    },
    {
     "name": "stdout",
     "output_type": "stream",
     "text": [
      "0.9174042605280729\n"
     ]
    },
    {
     "data": {
      "application/vnd.jupyter.widget-view+json": {
       "model_id": "99c140cc0e0441f091666a3ab721246e",
       "version_major": 2,
       "version_minor": 0
      },
      "text/plain": [
       "  0%|          | 0/1 [00:00<?, ?it/s]"
      ]
     },
     "metadata": {},
     "output_type": "display_data"
    },
    {
     "name": "stdout",
     "output_type": "stream",
     "text": [
      "0.9165057929135711\n"
     ]
    },
    {
     "data": {
      "application/vnd.jupyter.widget-view+json": {
       "model_id": "efd943d5b72b4491bcc10d72f1a11273",
       "version_major": 2,
       "version_minor": 0
      },
      "text/plain": [
       "  0%|          | 0/1 [00:00<?, ?it/s]"
      ]
     },
     "metadata": {},
     "output_type": "display_data"
    },
    {
     "name": "stdout",
     "output_type": "stream",
     "text": [
      "0.9178044617779157\n"
     ]
    },
    {
     "data": {
      "application/vnd.jupyter.widget-view+json": {
       "model_id": "c998bde209364be5b50af9333012ad0c",
       "version_major": 2,
       "version_minor": 0
      },
      "text/plain": [
       "  0%|          | 0/1 [00:00<?, ?it/s]"
      ]
     },
     "metadata": {},
     "output_type": "display_data"
    },
    {
     "name": "stdout",
     "output_type": "stream",
     "text": [
      "0.9094970442314216\n"
     ]
    },
    {
     "data": {
      "application/vnd.jupyter.widget-view+json": {
       "model_id": "2e1697352fae40778110bebbba82da63",
       "version_major": 2,
       "version_minor": 0
      },
      "text/plain": [
       "  0%|          | 0/1 [00:00<?, ?it/s]"
      ]
     },
     "metadata": {},
     "output_type": "display_data"
    },
    {
     "name": "stdout",
     "output_type": "stream",
     "text": [
      "0.8996584449945829\n"
     ]
    },
    {
     "data": {
      "application/vnd.jupyter.widget-view+json": {
       "model_id": "fcf85c3c464744a7b0c3e640e19e3641",
       "version_major": 2,
       "version_minor": 0
      },
      "text/plain": [
       "  0%|          | 0/1 [00:00<?, ?it/s]"
      ]
     },
     "metadata": {},
     "output_type": "display_data"
    },
    {
     "name": "stdout",
     "output_type": "stream",
     "text": [
      "0.9116760896506299\n"
     ]
    },
    {
     "data": {
      "application/vnd.jupyter.widget-view+json": {
       "model_id": "d1eaea96fcee4dc1a46ec53c8a70b694",
       "version_major": 2,
       "version_minor": 0
      },
      "text/plain": [
       "  0%|          | 0/1 [00:00<?, ?it/s]"
      ]
     },
     "metadata": {},
     "output_type": "display_data"
    },
    {
     "name": "stdout",
     "output_type": "stream",
     "text": [
      "0.9060826150118667\n"
     ]
    },
    {
     "data": {
      "application/vnd.jupyter.widget-view+json": {
       "model_id": "9820b910d2544770ac896825f11f8e18",
       "version_major": 2,
       "version_minor": 0
      },
      "text/plain": [
       "  0%|          | 0/1 [00:00<?, ?it/s]"
      ]
     },
     "metadata": {},
     "output_type": "display_data"
    },
    {
     "name": "stdout",
     "output_type": "stream",
     "text": [
      "0.9041556832489643\n"
     ]
    },
    {
     "data": {
      "application/vnd.jupyter.widget-view+json": {
       "model_id": "17e590ca5ba949618002da421c965577",
       "version_major": 2,
       "version_minor": 0
      },
      "text/plain": [
       "  0%|          | 0/1 [00:00<?, ?it/s]"
      ]
     },
     "metadata": {},
     "output_type": "display_data"
    },
    {
     "name": "stdout",
     "output_type": "stream",
     "text": [
      "0.9089983441534034\n"
     ]
    },
    {
     "data": {
      "application/vnd.jupyter.widget-view+json": {
       "model_id": "951e0189bfce4403a52f28b903dff937",
       "version_major": 2,
       "version_minor": 0
      },
      "text/plain": [
       "  0%|          | 0/1 [00:00<?, ?it/s]"
      ]
     },
     "metadata": {},
     "output_type": "display_data"
    },
    {
     "name": "stdout",
     "output_type": "stream",
     "text": [
      "0.9178149185776973\n"
     ]
    },
    {
     "data": {
      "application/vnd.jupyter.widget-view+json": {
       "model_id": "87a361c3f45440ca80c8bd32b0fd69bb",
       "version_major": 2,
       "version_minor": 0
      },
      "text/plain": [
       "  0%|          | 0/1 [00:00<?, ?it/s]"
      ]
     },
     "metadata": {},
     "output_type": "display_data"
    },
    {
     "name": "stdout",
     "output_type": "stream",
     "text": [
      "0.9068994467011865\n"
     ]
    },
    {
     "data": {
      "application/vnd.jupyter.widget-view+json": {
       "model_id": "4b056033ee374b299ddf84e9d0bf8321",
       "version_major": 2,
       "version_minor": 0
      },
      "text/plain": [
       "  0%|          | 0/1 [00:00<?, ?it/s]"
      ]
     },
     "metadata": {},
     "output_type": "display_data"
    },
    {
     "name": "stdout",
     "output_type": "stream",
     "text": [
      "0.9175632276826576\n"
     ]
    },
    {
     "data": {
      "application/vnd.jupyter.widget-view+json": {
       "model_id": "eb21b9082a93457396811f3bd1dd41be",
       "version_major": 2,
       "version_minor": 0
      },
      "text/plain": [
       "  0%|          | 0/1 [00:00<?, ?it/s]"
      ]
     },
     "metadata": {},
     "output_type": "display_data"
    },
    {
     "name": "stdout",
     "output_type": "stream",
     "text": [
      "0.925386488654194\n"
     ]
    }
   ],
   "source": [
    "vec_snn = fhrr.bundle([rvs[0], rvs[1]])\n",
    "vec_py  = fhrr.bundle_old([rvs[0], rvs[1]])\n",
    "similarity = []\n",
    "similarity.append( fhrr.similarity(vec_snn, vec_py) )\n",
    "# with nb.tqdm(total=(N-2)) as pbar:\n",
    "for i in range(2,N):\n",
    "    vec_snn = fhrr.bundle([vec_snn, rvs[i]])\n",
    "    vec_py  = fhrr.bundle_old([vec_py, rvs[i]])\n",
    "    sim =  fhrr.similarity(vec_snn, vec_py)\n",
    "    print(sim)\n",
    "    similarity.append(sim)\n",
    "#         pbar.update(1)"
   ]
  },
  {
   "cell_type": "code",
   "execution_count": 103,
   "id": "2a58b04d",
   "metadata": {},
   "outputs": [
    {
     "data": {
      "image/png": "[encoded data removed]",
      "text/plain": [
       "<Figure size 640x480 with 1 Axes>"
      ]
     },
     "metadata": {},
     "output_type": "display_data"
    }
   ],
   "source": [
    "x = [i for i in range(len(similarity))]\n",
    "Emax = (4*cmath.pi*cmath.pi)/(2*cmath.pi + 100)\n",
    "plt.plot(x, similarity)\n",
    "plt.plot(x, [ cmath.cos(2*Emax*(1 - 2**(1-i))) for i in x])\n",
    "plt.show()"
   ]
  },
  {
   "cell_type": "markdown",
   "id": "732ee89c",
   "metadata": {},
   "source": [
    "## Binding similarity plot"
   ]
  },
  {
   "cell_type": "code",
   "execution_count": 35,
   "id": "6ce71f21",
   "metadata": {},
   "outputs": [],
   "source": [
    "N = 50\n",
    "rvs = [fhrr.get_rv() for i in range(N)]"
   ]
  },
  {
   "cell_type": "code",
   "execution_count": 36,
   "id": "0b1797e3",
   "metadata": {},
   "outputs": [
    {
     "data": {
      "application/vnd.jupyter.widget-view+json": {
       "model_id": "fefcadf52d684e318eb09d0e087efd3a",
       "version_major": 2,
       "version_minor": 0
      },
      "text/plain": [
       "  0%|          | 0/48 [00:00<?, ?it/s]"
      ]
     },
     "metadata": {},
     "output_type": "display_data"
    },
    {
     "name": "stdout",
     "output_type": "stream",
     "text": [
      "0.9720184352187792\n",
      "0.9587926084058092\n",
      "0.9362925317135351\n",
      "0.9129282972446261\n",
      "0.8858719366077368\n",
      "0.8520117010663351\n",
      "0.8202617738750941\n",
      "0.7885506742524935\n",
      "0.7576910380877452\n",
      "0.7167078347588419\n",
      "0.6746716960339976\n",
      "0.6311630133172006\n",
      "0.5828221349673938\n",
      "0.5408179483583556\n",
      "0.49027458450500094\n",
      "0.44769935851751846\n",
      "0.4079769366640034\n",
      "0.36126929558013876\n",
      "0.31770100684445785\n",
      "0.27142706793875665\n",
      "0.22711823200726064\n",
      "0.18077260074162502\n",
      "0.1346941792862964\n",
      "0.09415506868379922\n",
      "0.05039119554880187\n",
      "0.0008303772892300663\n",
      "-0.04324863306598281\n",
      "-0.08557178289929614\n",
      "-0.12215154667757604\n",
      "-0.16118639472481833\n",
      "-0.19773028031992287\n",
      "-0.2357576759215874\n",
      "-0.27136127852518555\n",
      "-0.3128234886716291\n",
      "-0.3474236096985245\n",
      "-0.37950445804352495\n",
      "-0.407319851417077\n",
      "-0.4350233210094606\n",
      "-0.45532284150070657\n",
      "-0.47454738099772303\n",
      "-0.49610004792754864\n",
      "-0.5163762333485613\n",
      "-0.5334632372990328\n",
      "-0.5461983391445651\n",
      "-0.5546294327118597\n",
      "-0.5610898801279619\n",
      "-0.5724109022783125\n",
      "-0.5739769200471686\n"
     ]
    }
   ],
   "source": [
    "vec_snn = fhrr.bind(rvs[0], rvs[1])\n",
    "vec_py  = fhrr.bind_old(rvs[0], rvs[1])\n",
    "\n",
    "similarity = []\n",
    "similarity.append( fhrr.similarity(vec_snn, vec_py) )\n",
    "with nb.tqdm(total=(N-2)) as pbar:\n",
    "    for i in range(2,N):\n",
    "        vec_snn = fhrr.bind(vec_snn, rvs[i])\n",
    "        vec_py  = fhrr.bind_old(vec_py, rvs[i])\n",
    "        sim =  fhrr.similarity(vec_snn, vec_py)\n",
    "        print(sim)\n",
    "        similarity.append(sim)\n",
    "        pbar.update(1)\n"
   ]
  },
  {
   "cell_type": "code",
   "execution_count": 41,
   "id": "a58269eb",
   "metadata": {},
   "outputs": [
    {
     "data": {
      "image/png": "[encoded data removed]",
      "text/plain": [
       "<Figure size 640x480 with 1 Axes>"
      ]
     },
     "metadata": {},
     "output_type": "display_data"
    }
   ],
   "source": [
    "e = (4*cmath.pi**2)/(2*cmath.pi + 400)\n",
    "plt.plot([i for i in range(len(similarity))], similarity)\n",
    "plt.plot([i for i in range(len(similarity))], [ cmath.cos(2*e*(i+1)) for i in range(len(similarity))])\n",
    "plt.show()"
   ]
  },
  {
   "cell_type": "code",
   "execution_count": 64,
   "id": "4862fcf8",
   "metadata": {},
   "outputs": [],
   "source": [
    "v1=[-0.6509343-0.75913407j, 0.98201269-0.18881492j, 0.70828271+0.7059289j, -0.87867322-0.47742368j, -0.25664319+0.96650622j, -0.99925527-0.0385863j,-0.18195258+0.98330731j, 0.79629426-0.60490945j, 0.4609638 -0.88741894j,-0.97711417-0.21271554j]\n",
    "v2=[ 0.98265574-0.18543921j, -0.85077356-0.52553245j, 0.89706642-0.44189573j,0.88176401+0.47169083j, -0.86121103-0.50824755j, -0.38701112+0.92207505j,-0.52645175-0.85020501j, 0.63240725-0.77463609j,-0.35721403-0.93402256j, -0.67959213-0.73359017j] \n",
    "v3=[0.06898917+0.99761741j, -0.6812156 -0.73208285j, -0.80284777-0.59618408j, 0.90692961+0.42128218j, 0.96880936+0.24780725j, -0.07638744-0.99707821j, 0.99140933-0.13079582j,0.74125805+0.67122016j,-0.34449359+0.93878867j, 0.30253166+0.95313934j]"
   ]
  },
  {
   "cell_type": "code",
   "execution_count": 65,
   "id": "2293ef7a",
   "metadata": {},
   "outputs": [],
   "source": [
    "vec_snn = fhrr.bind(v1, v2)\n",
    "vec_py  = fhrr.bind_old(v1, v2)"
   ]
  },
  {
   "cell_type": "code",
   "execution_count": 66,
   "id": "47ed26a7",
   "metadata": {},
   "outputs": [
    {
     "name": "stdout",
     "output_type": "stream",
     "text": [
      "0.9967731559367113\n"
     ]
    }
   ],
   "source": [
    "sim =  fhrr.similarity(vec_snn, vec_py)\n",
    "print(sim)"
   ]
  },
  {
   "cell_type": "code",
   "execution_count": null,
   "id": "bd434cf8",
   "metadata": {},
   "outputs": [],
   "source": []
  }
 ],
 "metadata": {
  "kernelspec": {
   "display_name": "Python 3 (ipykernel)",
   "language": "python",
   "name": "python3"
  },
  "language_info": {
   "codemirror_mode": {
    "name": "ipython",
    "version": 3
   },
   "file_extension": ".py",
   "mimetype": "text/x-python",
   "name": "python",
   "nbconvert_exporter": "python",
   "pygments_lexer": "ipython3",
   "version": "3.8.10"
  }
 },
 "nbformat": 4,
 "nbformat_minor": 5
}
