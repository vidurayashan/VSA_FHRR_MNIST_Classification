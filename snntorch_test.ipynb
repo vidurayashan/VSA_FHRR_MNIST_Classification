{
 "cells": [
  {
   "cell_type": "code",
   "execution_count": 2,
   "id": "4f1797cf-835c-4f3c-9806-ac19a6ef2d2a",
   "metadata": {},
   "outputs": [
    {
     "ename": "OSError",
     "evalue": "[WinError 182] The operating system cannot run %1. Error loading \"C:\\Users\\21361535\\AppData\\Local\\anaconda3\\envs\\lava\\lib\\site-packages\\torch\\lib\\fbgemm.dll\" or one of its dependencies.",
     "output_type": "error",
     "traceback": [
      "\u001b[1;31m---------------------------------------------------------------------------\u001b[0m",
      "\u001b[1;31mOSError\u001b[0m                                   Traceback (most recent call last)",
      "Cell \u001b[1;32mIn[2], line 1\u001b[0m\n\u001b[1;32m----> 1\u001b[0m \u001b[38;5;28;01mimport\u001b[39;00m \u001b[38;5;21;01mtorch\u001b[39;00m\n",
      "File \u001b[1;32m~\\AppData\\Local\\anaconda3\\envs\\lava\\lib\\site-packages\\torch\\__init__.py:130\u001b[0m\n\u001b[0;32m    128\u001b[0m     err \u001b[38;5;241m=\u001b[39m ctypes\u001b[38;5;241m.\u001b[39mWinError(last_error)\n\u001b[0;32m    129\u001b[0m     err\u001b[38;5;241m.\u001b[39mstrerror \u001b[38;5;241m+\u001b[39m\u001b[38;5;241m=\u001b[39m \u001b[38;5;124mf\u001b[39m\u001b[38;5;124m'\u001b[39m\u001b[38;5;124m Error loading \u001b[39m\u001b[38;5;124m\"\u001b[39m\u001b[38;5;132;01m{\u001b[39;00mdll\u001b[38;5;132;01m}\u001b[39;00m\u001b[38;5;124m\"\u001b[39m\u001b[38;5;124m or one of its dependencies.\u001b[39m\u001b[38;5;124m'\u001b[39m\n\u001b[1;32m--> 130\u001b[0m     \u001b[38;5;28;01mraise\u001b[39;00m err\n\u001b[0;32m    131\u001b[0m \u001b[38;5;28;01melif\u001b[39;00m res \u001b[38;5;129;01mis\u001b[39;00m \u001b[38;5;129;01mnot\u001b[39;00m \u001b[38;5;28;01mNone\u001b[39;00m:\n\u001b[0;32m    132\u001b[0m     is_loaded \u001b[38;5;241m=\u001b[39m \u001b[38;5;28;01mTrue\u001b[39;00m\n",
      "\u001b[1;31mOSError\u001b[0m: [WinError 182] The operating system cannot run %1. Error loading \"C:\\Users\\21361535\\AppData\\Local\\anaconda3\\envs\\lava\\lib\\site-packages\\torch\\lib\\fbgemm.dll\" or one of its dependencies."
     ]
    }
   ],
   "source": [
    "import torch"
   ]
  },
  {
   "cell_type": "code",
   "execution_count": null,
   "id": "b96ae266-ad51-4e4a-b7b2-103c32842438",
   "metadata": {},
   "outputs": [],
   "source": [
    "import numpy as np\n",
    "import matplotlib.pyplot as plt"
   ]
  },
  {
   "cell_type": "code",
   "execution_count": null,
   "id": "6cb30411-6f58-4ed3-baec-ae7dd13cb24b",
   "metadata": {},
   "outputs": [],
   "source": [
    "def encode_to_spikes(values, max_rate, time_steps):\n",
    "    \"\"\"\n",
    "    Encodes values to spikes using rate coding.\n",
    "\n",
    "    Parameters:\n",
    "    values (np.array): Array of values to encode.\n",
    "    max_rate (float): Maximum spiking rate (spikes per second).\n",
    "    time_steps (int): Number of time steps for each spike train.\n",
    "\n",
    "    Returns:\n",
    "    torch.Tensor: A tensor representing spike trains.\n",
    "    \"\"\"\n",
    "    # Normalize the values to [0, 1]\n",
    "    normalized_values = values / 360.0\n",
    "    \n",
    "    # Calculate spikes per time step\n",
    "    spikes_per_time_step = normalized_values * max_rate / time_steps\n",
    "    \n",
    "    # Generate spike trains\n",
    "    spike_trains = torch.rand((len(values), time_steps)) < spikes_per_time_step[:, None]\n",
    "    return spike_trains.float()\n",
    "\n",
    "def decode_from_spikes(spike_trains, max_rate, time_steps):\n",
    "    \"\"\"\n",
    "    Decodes spike trains back to values using the average firing rate.\n",
    "\n",
    "    Parameters:\n",
    "    spike_trains (torch.Tensor): The tensor of spike trains.\n",
    "    max_rate (float): Maximum spiking rate used during encoding.\n",
    "    time_steps (int): Number of time steps used during encoding.\n",
    "\n",
    "    Returns:\n",
    "    np.array: Decoded values.\n",
    "    \"\"\"\n",
    "    # Calculate the mean firing rate per time step\n",
    "    firing_rates = spike_trains.sum(dim=1) / time_steps\n",
    "    \n",
    "    # Convert firing rate to values\n",
    "    values = firing_rates * 360 / (max_rate / time_steps)\n",
    "    return values.numpy()"
   ]
  },
  {
   "cell_type": "code",
   "execution_count": null,
   "id": "93fdf872-e032-4361-9bb1-830158363f57",
   "metadata": {},
   "outputs": [],
   "source": [
    "# Example usage\n",
    "values = np.random.uniform(0, 360, 10)  # Random values between 0 and 360\n",
    "max_rate = 100  # 100 Hz\n",
    "time_steps = 100  # Total time steps\n",
    "\n",
    "spike_trains = encode_to_spikes(values, max_rate, time_steps)\n",
    "decoded_values = decode_from_spikes(spike_trains, max_rate, time_steps)\n",
    "\n",
    "print(\"Original Values:\", values)\n",
    "print(\"Decoded Values:\", decoded_values)\n",
    "\n",
    "# Optionally visualize one of the spike trains\n",
    "plt.imshow(spike_trains.numpy(), aspect='auto', interpolation='nearest', cmap='binary')\n",
    "plt.title(\"Spike Train Visualization\")\n",
    "plt.ylabel(\"Neuron Index\")\n",
    "plt.xlabel(\"Time Step\")\n",
    "plt.show()"
   ]
  },
  {
   "cell_type": "code",
   "execution_count": null,
   "id": "ea5a94d6-13a8-4558-bdb7-440625c04d45",
   "metadata": {},
   "outputs": [],
   "source": []
  }
 ],
 "metadata": {
  "kernelspec": {
   "display_name": "Python 3 (ipykernel)",
   "language": "python",
   "name": "python3"
  },
  "language_info": {
   "codemirror_mode": {
    "name": "ipython",
    "version": 3
   },
   "file_extension": ".py",
   "mimetype": "text/x-python",
   "name": "python",
   "nbconvert_exporter": "python",
   "pygments_lexer": "ipython3",
   "version": "3.9.18"
  }
 },
 "nbformat": 4,
 "nbformat_minor": 5
}
