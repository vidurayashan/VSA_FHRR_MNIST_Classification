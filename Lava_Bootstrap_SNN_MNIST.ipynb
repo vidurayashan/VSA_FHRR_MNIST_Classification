{
 "cells": [
  {
   "cell_type": "code",
   "execution_count": 1,
   "id": "755caa9b",
   "metadata": {},
   "outputs": [],
   "source": [
    "import os, sys\n",
    "import h5py\n",
    "import numpy as np\n",
    "import matplotlib.pyplot as plt\n",
    "from PIL import Image\n",
    "import torch\n",
    "import torch.nn.functional as F\n",
    "from torch.utils.data import Dataset, DataLoader\n",
    "from torchvision import datasets, transforms\n",
    "\n",
    "# import slayer from lava-dl\n",
    "import lava.lib.dl.slayer as slayer\n",
    "import lava.lib.dl.bootstrap as bootstrap\n",
    "\n",
    "import IPython.display as display\n",
    "from matplotlib import animation"
   ]
  },
  {
   "cell_type": "code",
   "execution_count": 2,
   "id": "f8905849",
   "metadata": {},
   "outputs": [],
   "source": [
    "class Network(torch.nn.Module):\n",
    "    def __init__(self, time_steps=16):\n",
    "        super(Network, self).__init__()\n",
    "        self.time_steps = time_steps\n",
    "\n",
    "        neuron_params = {\n",
    "                'threshold'     : 1.25,\n",
    "                'current_decay' : 1, # this must be 1 to use batchnorm\n",
    "                'voltage_decay' : 0.03,\n",
    "                'tau_grad'      : 1,\n",
    "                'scale_grad'    : 1,\n",
    "            }\n",
    "        neuron_params_norm = {\n",
    "                **neuron_params,\n",
    "                # 'norm'    : slayer.neuron.norm.MeanOnlyBatchNorm,\n",
    "            }\n",
    "\n",
    "        self.blocks = torch.nn.ModuleList([\n",
    "                bootstrap.block.cuba.Input(neuron_params, weight=1, bias=0), # enable affine transform at input\n",
    "                bootstrap.block.cuba.Dense(neuron_params_norm, 28*28, 512, weight_norm=True, weight_scale=2),\n",
    "                bootstrap.block.cuba.Dense(neuron_params_norm, 512, 512, weight_norm=True, weight_scale=2),\n",
    "                bootstrap.block.cuba.Affine(neuron_params, 512, 10, weight_norm=True, weight_scale=2),\n",
    "            ])\n",
    "\n",
    "    def forward(self, x, mode):\n",
    "        N, C, H, W = x.shape\n",
    "        if mode.base_mode == bootstrap.Mode.ANN:\n",
    "            x = x.reshape([N, C, H, W, 1])\n",
    "        else:\n",
    "            x = slayer.utils.time.replicate(x, self.time_steps)\n",
    "\n",
    "        x = x.reshape(N, -1, x.shape[-1])\n",
    "\n",
    "        for block, m in zip(self.blocks, mode):\n",
    "            x = block(x, mode=m)\n",
    "\n",
    "        return x\n",
    "\n",
    "    def export_hdf5(self, filename):\n",
    "        # network export to hdf5 format\n",
    "        h = h5py.File(filename, 'w')\n",
    "        simulation = h.create_group('simulation')\n",
    "        simulation['Ts'] = 1\n",
    "        simulation['tSample'] = self.time_steps\n",
    "        layer = h.create_group('layer')\n",
    "        for i, b in enumerate(self.blocks):\n",
    "            b.export_hdf5(layer.create_group(f'{i}'))"
   ]
  },
  {
   "cell_type": "code",
   "execution_count": 4,
   "id": "1052d805",
   "metadata": {},
   "outputs": [
    {
     "name": "stdout",
     "output_type": "stream",
     "text": [
      "Downloading http://yann.lecun.com/exdb/mnist/train-images-idx3-ubyte.gz\n",
      "Downloading http://yann.lecun.com/exdb/mnist/train-images-idx3-ubyte.gz to data/MNIST/raw/train-images-idx3-ubyte.gz\n"
     ]
    },
    {
     "data": {
      "application/vnd.jupyter.widget-view+json": {
       "model_id": "48de1d0ac0254648af38ee9b19e446a8",
       "version_major": 2,
       "version_minor": 0
      },
      "text/plain": [
       "  0%|          | 0/9912422 [00:00<?, ?it/s]"
      ]
     },
     "metadata": {},
     "output_type": "display_data"
    },
    {
     "name": "stdout",
     "output_type": "stream",
     "text": [
      "Extracting data/MNIST/raw/train-images-idx3-ubyte.gz to data/MNIST/raw\n",
      "\n",
      "Downloading http://yann.lecun.com/exdb/mnist/train-labels-idx1-ubyte.gz\n",
      "Downloading http://yann.lecun.com/exdb/mnist/train-labels-idx1-ubyte.gz to data/MNIST/raw/train-labels-idx1-ubyte.gz\n"
     ]
    },
    {
     "data": {
      "application/vnd.jupyter.widget-view+json": {
       "model_id": "b693db5aa3e148e18bb571307be1996f",
       "version_major": 2,
       "version_minor": 0
      },
      "text/plain": [
       "  0%|          | 0/28881 [00:00<?, ?it/s]"
      ]
     },
     "metadata": {},
     "output_type": "display_data"
    },
    {
     "name": "stdout",
     "output_type": "stream",
     "text": [
      "Extracting data/MNIST/raw/train-labels-idx1-ubyte.gz to data/MNIST/raw\n",
      "\n",
      "Downloading http://yann.lecun.com/exdb/mnist/t10k-images-idx3-ubyte.gz\n",
      "Downloading http://yann.lecun.com/exdb/mnist/t10k-images-idx3-ubyte.gz to data/MNIST/raw/t10k-images-idx3-ubyte.gz\n"
     ]
    },
    {
     "data": {
      "application/vnd.jupyter.widget-view+json": {
       "model_id": "9ddd654119ec49b691ed2a3c1f5f218f",
       "version_major": 2,
       "version_minor": 0
      },
      "text/plain": [
       "  0%|          | 0/1648877 [00:00<?, ?it/s]"
      ]
     },
     "metadata": {},
     "output_type": "display_data"
    },
    {
     "name": "stdout",
     "output_type": "stream",
     "text": [
      "Extracting data/MNIST/raw/t10k-images-idx3-ubyte.gz to data/MNIST/raw\n",
      "\n",
      "Downloading http://yann.lecun.com/exdb/mnist/t10k-labels-idx1-ubyte.gz\n",
      "Downloading http://yann.lecun.com/exdb/mnist/t10k-labels-idx1-ubyte.gz to data/MNIST/raw/t10k-labels-idx1-ubyte.gz\n"
     ]
    },
    {
     "data": {
      "application/vnd.jupyter.widget-view+json": {
       "model_id": "a86f8f2012804e69b6501c6da8929d5f",
       "version_major": 2,
       "version_minor": 0
      },
      "text/plain": [
       "  0%|          | 0/4542 [00:00<?, ?it/s]"
      ]
     },
     "metadata": {},
     "output_type": "display_data"
    },
    {
     "name": "stdout",
     "output_type": "stream",
     "text": [
      "Extracting data/MNIST/raw/t10k-labels-idx1-ubyte.gz to data/MNIST/raw\n",
      "\n"
     ]
    }
   ],
   "source": [
    "trained_folder = 'Trained'\n",
    "os.makedirs(trained_folder, exist_ok=True)\n",
    "\n",
    "device = torch.device('cpu')\n",
    "# device = torch.device('cuda')\n",
    "\n",
    "net = Network().to(device)\n",
    "\n",
    "optimizer = torch.optim.Adam(net.parameters(), lr=0.001)\n",
    "\n",
    "# Dataset and dataLoader instances.\n",
    "training_set = datasets.MNIST(\n",
    "        root='data/',\n",
    "        train=True,\n",
    "        transform=transforms.Compose([\n",
    "            transforms.RandomAffine(\n",
    "                degrees=10,\n",
    "                translate=(0.05, 0.05),\n",
    "                scale=(0.95, 1.05),\n",
    "                shear=5,\n",
    "            ),\n",
    "            transforms.ToTensor(),\n",
    "            transforms.Normalize((0.5), (0.5)),\n",
    "        ]),\n",
    "        download=True,\n",
    "    )\n",
    "\n",
    "testing_set = datasets.MNIST(\n",
    "        root='data/',\n",
    "        train=False,\n",
    "        transform=transforms.Compose([\n",
    "            transforms.ToTensor(),\n",
    "            transforms.Normalize((0.5), (0.5)),\n",
    "        ]),\n",
    "    )\n",
    "\n",
    "train_loader = DataLoader(dataset=training_set, batch_size=32, shuffle=True)\n",
    "test_loader  = DataLoader(dataset=testing_set , batch_size=32, shuffle=True)\n",
    "\n",
    "stats = slayer.utils.LearningStats()\n",
    "scheduler = bootstrap.routine.Scheduler()"
   ]
  },
  {
   "cell_type": "code",
   "execution_count": null,
   "id": "6e23e113",
   "metadata": {},
   "outputs": [
    {
     "name": "stdout",
     "output_type": "stream",
     "text": [
      "                                                                                                                                                              \n",
      "Mode: SNN\n",
      "[Epoch  0/100]\n",
      "SNN Testing: loss =     0.16160                          accuracy = 0.96460 \n",
      "                                                                                                                                                                                            \n",
      "Mode: SNN\n",
      "[Epoch 10/100]\n",
      "SNN Testing: loss =     0.06891 (min =     0.16160)     accuracy = 0.98040 (max = 0.96460) \n",
      "                                                                                                                                                                                            \n",
      "Mode: SNN\n",
      "[Epoch 20/100]\n",
      "SNN Testing: loss =     0.05211 (min =     0.06891)     accuracy = 0.98560 (max = 0.98040) \n",
      "                                                                                                                                                                                            \n",
      "Mode: SNN\n",
      "[Epoch 30/100]\n",
      "SNN Testing: loss =     0.04420 (min =     0.05211)     accuracy = 0.98660 (max = 0.98560) \n",
      "[Epoch 33/100] Train loss =     0.03570 (min =     0.03631)     accuracy = 0.98823 (max = 0.98825)  | Test  loss =     0.03550 (min =     0.02894)     accuracy = 0.98810 (max = 0.99110) "
     ]
    }
   ],
   "source": [
    "epochs = 100\n",
    "for epoch in range(epochs):\n",
    "    for i, (input, label) in enumerate(train_loader, 0):\n",
    "        net.train()\n",
    "        mode = scheduler.mode(epoch, i, net.training)\n",
    "\n",
    "        input = input.to(device)\n",
    "        output = net.forward(input, mode)\n",
    "        rate = torch.mean(output, dim=-1).reshape((input.shape[0], -1))\n",
    "\n",
    "        loss = F.cross_entropy(rate, label.to(device))\n",
    "        prediction = rate.data.max(1, keepdim=True)[1].cpu().flatten()\n",
    "\n",
    "        stats.training.num_samples += len(label)\n",
    "        stats.training.loss_sum += loss.cpu().data.item() * input.shape[0]\n",
    "        stats.training.correct_samples += torch.sum( prediction == label ).data.item()\n",
    "\n",
    "        optimizer.zero_grad()\n",
    "        loss.backward()\n",
    "        optimizer.step()\n",
    "    print(f'\\r[Epoch {epoch:2d}/{epochs}] {stats}', end='')\n",
    "\n",
    "    for i, (input, label) in enumerate(test_loader, 0):\n",
    "        net.eval()\n",
    "        mode = scheduler.mode(epoch, i, net.training)\n",
    "\n",
    "        with torch.no_grad():\n",
    "            input = input.to(device)\n",
    "            output = net.forward(input, mode=scheduler.mode(epoch, i, net.training))\n",
    "            rate = torch.mean(output, dim=-1).reshape((input.shape[0], -1))\n",
    "\n",
    "            loss = F.cross_entropy(rate, label.to(device))\n",
    "            prediction = rate.data.max(1, keepdim=True)[1].cpu().flatten()\n",
    "\n",
    "        stats.testing.num_samples += len(label)\n",
    "        stats.testing.loss_sum += loss.cpu().data.item() * input.shape[0]\n",
    "        stats.testing.correct_samples += torch.sum( prediction == label ).data.item()\n",
    "\n",
    "    print(f'\\r[Epoch {epoch:2d}/{epochs}] {stats}', end='')\n",
    "\n",
    "    if mode.base_mode == bootstrap.routine.Mode.SNN:\n",
    "        scheduler.sync_snn_stat(stats.testing)\n",
    "        print('\\r', ' '*len(f'\\r[Epoch {epoch:2d}/{epochs}] {stats}'))\n",
    "        print(mode)\n",
    "        print(f'[Epoch {epoch:2d}/{epochs}]\\nSNN Testing: {scheduler.snn_stat}')\n",
    "\n",
    "        if scheduler.snn_stat.best_accuracy:\n",
    "            torch.save(net.state_dict(), trained_folder + '/network.pt')\n",
    "        scheduler.update_snn_stat()\n",
    "\n",
    "    stats.update()\n",
    "    stats.save(trained_folder + '/')"
   ]
  },
  {
   "cell_type": "code",
   "execution_count": null,
   "id": "add0feb8",
   "metadata": {},
   "outputs": [],
   "source": [
    "stats.plot(figsize=(15, 5))"
   ]
  },
  {
   "cell_type": "code",
   "execution_count": null,
   "id": "eabc9cd2",
   "metadata": {},
   "outputs": [],
   "source": []
  }
 ],
 "metadata": {
  "kernelspec": {
   "display_name": "Python 3 (ipykernel)",
   "language": "python",
   "name": "python3"
  },
  "language_info": {
   "codemirror_mode": {
    "name": "ipython",
    "version": 3
   },
   "file_extension": ".py",
   "mimetype": "text/x-python",
   "name": "python",
   "nbconvert_exporter": "python",
   "pygments_lexer": "ipython3",
   "version": "3.8.10"
  }
 },
 "nbformat": 4,
 "nbformat_minor": 5
}
